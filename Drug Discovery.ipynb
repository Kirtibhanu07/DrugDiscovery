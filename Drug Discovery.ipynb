{
 "cells": [
  {
   "cell_type": "code",
   "execution_count": 1,
   "id": "fdf882ba",
   "metadata": {},
   "outputs": [],
   "source": [
    "import pandas as pd\n",
    "import numpy as np\n",
    "import warnings\n",
    "warnings.filterwarnings(\"ignore\")\n",
    "\n",
    "import matplotlib.pyplot as plt\n",
    "import seaborn as sns"
   ]
  },
  {
   "cell_type": "code",
   "execution_count": 2,
   "id": "2f619bb8",
   "metadata": {},
   "outputs": [],
   "source": [
    "import ipywidgets\n",
    "from ipywidgets import interact\n",
    "\n",
    "plt.rcParams['figure.figsize'] = (14, 8)\n",
    "plt.style.use('fivethirtyeight')"
   ]
  },
  {
   "cell_type": "code",
   "execution_count": 3,
   "id": "ea9ad0fc",
   "metadata": {},
   "outputs": [],
   "source": [
    "train = pd.read_csv(\"drugsComTrain_raw.csv\")"
   ]
  },
  {
   "cell_type": "code",
   "execution_count": 4,
   "id": "ce7aa355",
   "metadata": {},
   "outputs": [],
   "source": [
    "final=train.copy()"
   ]
  },
  {
   "cell_type": "code",
   "execution_count": 5,
   "id": "09dad6fb",
   "metadata": {
    "scrolled": true
   },
   "outputs": [
    {
     "data": {
      "text/html": [
       "<div>\n",
       "<style scoped>\n",
       "    .dataframe tbody tr th:only-of-type {\n",
       "        vertical-align: middle;\n",
       "    }\n",
       "\n",
       "    .dataframe tbody tr th {\n",
       "        vertical-align: top;\n",
       "    }\n",
       "\n",
       "    .dataframe thead th {\n",
       "        text-align: right;\n",
       "    }\n",
       "</style>\n",
       "<table border=\"1\" class=\"dataframe\">\n",
       "  <thead>\n",
       "    <tr style=\"text-align: right;\">\n",
       "      <th></th>\n",
       "      <th>uniqueID</th>\n",
       "      <th>drugName</th>\n",
       "      <th>condition</th>\n",
       "      <th>review</th>\n",
       "      <th>rating</th>\n",
       "      <th>date</th>\n",
       "      <th>usefulCount</th>\n",
       "    </tr>\n",
       "  </thead>\n",
       "  <tbody>\n",
       "    <tr>\n",
       "      <th>0</th>\n",
       "      <td>206461</td>\n",
       "      <td>Valsartan</td>\n",
       "      <td>Left Ventricular Dysfunction</td>\n",
       "      <td>\"It has no side effect, I take it in combinati...</td>\n",
       "      <td>9</td>\n",
       "      <td>20-May-12</td>\n",
       "      <td>27</td>\n",
       "    </tr>\n",
       "    <tr>\n",
       "      <th>1</th>\n",
       "      <td>95260</td>\n",
       "      <td>Guanfacine</td>\n",
       "      <td>ADHD</td>\n",
       "      <td>\"My son is halfway through his fourth week of ...</td>\n",
       "      <td>8</td>\n",
       "      <td>27-Apr-10</td>\n",
       "      <td>192</td>\n",
       "    </tr>\n",
       "    <tr>\n",
       "      <th>2</th>\n",
       "      <td>92703</td>\n",
       "      <td>Lybrel</td>\n",
       "      <td>Birth Control</td>\n",
       "      <td>\"I used to take another oral contraceptive, wh...</td>\n",
       "      <td>5</td>\n",
       "      <td>14-Dec-09</td>\n",
       "      <td>17</td>\n",
       "    </tr>\n",
       "  </tbody>\n",
       "</table>\n",
       "</div>"
      ],
      "text/plain": [
       "   uniqueID    drugName                     condition  \\\n",
       "0    206461   Valsartan  Left Ventricular Dysfunction   \n",
       "1     95260  Guanfacine                          ADHD   \n",
       "2     92703      Lybrel                 Birth Control   \n",
       "\n",
       "                                              review  rating       date  \\\n",
       "0  \"It has no side effect, I take it in combinati...       9  20-May-12   \n",
       "1  \"My son is halfway through his fourth week of ...       8  27-Apr-10   \n",
       "2  \"I used to take another oral contraceptive, wh...       5  14-Dec-09   \n",
       "\n",
       "   usefulCount  \n",
       "0           27  \n",
       "1          192  \n",
       "2           17  "
      ]
     },
     "execution_count": 5,
     "metadata": {},
     "output_type": "execute_result"
    }
   ],
   "source": [
    "train.head(3)"
   ]
  },
  {
   "cell_type": "code",
   "execution_count": 6,
   "id": "8826c0ba",
   "metadata": {},
   "outputs": [
    {
     "data": {
      "text/plain": [
       "(161297, 7)"
      ]
     },
     "execution_count": 6,
     "metadata": {},
     "output_type": "execute_result"
    }
   ],
   "source": [
    "train.shape"
   ]
  },
  {
   "cell_type": "code",
   "execution_count": 7,
   "id": "a1376b85",
   "metadata": {},
   "outputs": [],
   "source": [
    "final = final[final[\"condition\"].str.contains(\"</span> users found this comment helpful.\") == False]"
   ]
  },
  {
   "cell_type": "code",
   "execution_count": 8,
   "id": "86c22edb",
   "metadata": {},
   "outputs": [],
   "source": [
    "train = train[train[\"condition\"].str.contains(\"</span> users found this comment helpful.\") == False]"
   ]
  },
  {
   "cell_type": "code",
   "execution_count": 9,
   "id": "21a0a6c0",
   "metadata": {},
   "outputs": [
    {
     "data": {
      "text/plain": [
       "(159498, 7)"
      ]
     },
     "execution_count": 9,
     "metadata": {},
     "output_type": "execute_result"
    }
   ],
   "source": [
    "final.shape"
   ]
  },
  {
   "cell_type": "code",
   "execution_count": 10,
   "id": "e01838e6",
   "metadata": {
    "scrolled": true
   },
   "outputs": [
    {
     "name": "stdout",
     "output_type": "stream",
     "text": [
      "<class 'pandas.core.frame.DataFrame'>\n",
      "Int64Index: 159498 entries, 0 to 161296\n",
      "Data columns (total 7 columns):\n",
      " #   Column       Non-Null Count   Dtype \n",
      "---  ------       --------------   ----- \n",
      " 0   uniqueID     159498 non-null  int64 \n",
      " 1   drugName     159498 non-null  object\n",
      " 2   condition    159498 non-null  object\n",
      " 3   review       159498 non-null  object\n",
      " 4   rating       159498 non-null  int64 \n",
      " 5   date         159498 non-null  object\n",
      " 6   usefulCount  159498 non-null  int64 \n",
      "dtypes: int64(3), object(4)\n",
      "memory usage: 9.7+ MB\n"
     ]
    }
   ],
   "source": [
    "final.info()"
   ]
  },
  {
   "cell_type": "code",
   "execution_count": 11,
   "id": "95715f78",
   "metadata": {},
   "outputs": [
    {
     "data": {
      "text/plain": [
       "array(['Valsartan', 'Guanfacine', 'Lybrel', ..., 'Mavik', 'Aldomet',\n",
       "       'Grifulvin V'], dtype=object)"
      ]
     },
     "execution_count": 11,
     "metadata": {},
     "output_type": "execute_result"
    }
   ],
   "source": [
    "train.drugName.unique()"
   ]
  },
  {
   "cell_type": "code",
   "execution_count": 12,
   "id": "8ec98fe0",
   "metadata": {},
   "outputs": [
    {
     "data": {
      "text/plain": [
       "3412"
      ]
     },
     "execution_count": 12,
     "metadata": {},
     "output_type": "execute_result"
    }
   ],
   "source": [
    "train.drugName.nunique()"
   ]
  },
  {
   "cell_type": "code",
   "execution_count": 13,
   "id": "a4dbe7d7",
   "metadata": {},
   "outputs": [
    {
     "data": {
      "text/plain": [
       "array(['Left Ventricular Dysfunction', 'ADHD', 'Birth Control',\n",
       "       'Opiate Dependence', 'Benign Prostatic Hyperplasia',\n",
       "       'Emergency Contraception', 'Bipolar Disorde', 'Epilepsy',\n",
       "       'Migraine Prevention', 'Depression', \"Crohn's Disease\", 'Cough',\n",
       "       'Obesity', 'Urinary Tract Infection', 'ibromyalgia',\n",
       "       'Chronic Myelogenous Leukemia', 'HIV Infection', 'Insomnia',\n",
       "       'Rheumatoid Arthritis', 'Vaginal Yeast Infection',\n",
       "       'Chlamydia Infection', 'Hirsutism', 'Panic Disorde', 'Migraine',\n",
       "       'Pain', 'Irritable Bowel Syndrome', 'Osteoarthritis',\n",
       "       'Constipation', 'Bowel Preparation', 'Psychosis', 'Muscle Spasm',\n",
       "       'Hepatitis C', 'Overactive Bladde', 'Diabetes, Type 2',\n",
       "       'Asthma, Maintenance', 'Non-Small Cell Lung Cance',\n",
       "       'Schizophrenia', 'Dysuria', 'Smoking Cessation', 'Anxiety', 'Acne',\n",
       "       'emale Infertility', 'Constipation, Acute',\n",
       "       'Constipation, Drug Induced', 'Erectile Dysfunction',\n",
       "       'Trigeminal Neuralgia', 'Underactive Thyroid', 'Chronic Pain',\n",
       "       'Atrophic Vaginitis', 'Skin and Structure Infection', 'Tinnitus',\n",
       "       'Major Depressive Disorde', 'Anxiety and Stress', 'Rosacea',\n",
       "       'High Blood Pressure', 'Restless Legs Syndrome',\n",
       "       'Osteolytic Bone Metastases of Solid Tumors', 'Bronchitis',\n",
       "       'Skin or Soft Tissue Infection', 'Obsessive Compulsive Disorde',\n",
       "       'Endometriosis', 'Keratoconjunctivitis Sicca', 'Breakthrough Pain',\n",
       "       'Seizures', 'Neuropathic Pain', 'Sedation', 'Menstrual Disorders',\n",
       "       'Allergic Rhinitis', 'Anesthesia',\n",
       "       'Undifferentiated Connective Tissue Disease', 'Diabetes, Type 1',\n",
       "       'Abnormal Uterine Bleeding', 'Weight Loss',\n",
       "       'Constipation, Chronic', 'Breast Cancer, Metastatic',\n",
       "       'Period Pain', 'Helicobacter Pylori Infection',\n",
       "       'Atrial Fibrillation', 'Uterine Fibroids', 'Kidney Infections',\n",
       "       'Generalized Anxiety Disorde', 'Asthma', 'Postmenopausal Symptoms',\n",
       "       'High Cholesterol', 'Hypogonadism, Male', 'Hyperthyroidism',\n",
       "       'Back Pain', 'Anaplastic Oligodendroglioma', \"Sjogren's Syndrome\",\n",
       "       'Asthma, acute', 'Hot Flashes', 'Herpes Simplex, Suppression',\n",
       "       'Bacterial Infection', 'Bursitis', 'Diaper Rash',\n",
       "       'Systemic Mastocytosis', 'Trichotillomania', \"Hashimoto's disease\",\n",
       "       'Eczema', 'Dental Abscess', 'Headache', 'Hypersomnia',\n",
       "       'Xerostomia', 'Breast Cance', 'Sore Throat', \"Barrett's Esophagus\",\n",
       "       'Pain/Feve', 'Diverticulitis', 'Sinusitis',\n",
       "       'Polycystic Ovary Syndrome', 'Influenza',\n",
       "       'Hypothyroidism, After Thyroid Removal', 'Onychomycosis, Toenail',\n",
       "       'Progesterone Insufficiency', 'GERD',\n",
       "       'Nausea/Vomiting, Postoperative', 'Herpes Simplex',\n",
       "       'Gastroparesis', 'Gout, Acute', 'Motion Sickness',\n",
       "       'Multiple Sclerosis', 'Autism', 'Otitis Media',\n",
       "       'Upper Respiratory Tract Infection', 'Surgical Prophylaxis',\n",
       "       'Psoriatic Arthritis', 'Erosive Esophagitis',\n",
       "       'Premature Ventricular Depolarizations', 'Stomach Ulce',\n",
       "       'Nausea/Vomiting', 'Light Anesthesia',\n",
       "       'Angina Pectoris Prophylaxis', 'Paranoid Disorde', 'Prostatitis',\n",
       "       'Extrapyramidal Reaction', 'mance Anxiety', 'Night Terrors',\n",
       "       'High Cholesterol, Familial Heterozygous', 'Spondyloarthritis',\n",
       "       'Clostridial Infection', 'Dermatomyositis', 'Bronchiectasis',\n",
       "       'Nasal Congestion', 'Benign Essential Trem', 'Angina',\n",
       "       'moterol / mometasone)', 'Impetig', 'Conjunctivitis, Bacterial',\n",
       "       'Post Traumatic Stress Disorde', 'Alcohol Withdrawal', 'Psoriasis',\n",
       "       'Cold Sores', 'Hyperhidrosis', 'Ankylosing Spondylitis',\n",
       "       'Hemorrhoids', 'Schizoaffective Disorde', 'Not Listed / Othe',\n",
       "       'Rhinitis', 'Oral Thrush', 'Hyperlipoproteinemia',\n",
       "       'Neutropenia Associated with Chemotherapy', 'Osteoporosis',\n",
       "       'Reflex Sympathetic Dystrophy Syndrome', 'Urticaria', 'Narcolepsy',\n",
       "       'Systemic Lupus Erythematosus', 'Ulcerative Colitis',\n",
       "       'Adult Human Growth Hormone Deficiency', 'Bacterial Vaginitis',\n",
       "       'COPD, Maintenance', 'Anorexia', 'TSH Suppression',\n",
       "       'Breast Cancer, Adjuvant', 'Glaucoma',\n",
       "       'Cough and Nasal Congestion', 'Inflammatory Conditions',\n",
       "       'Urinary Incontinence', 'Gout', 'Bladder Infection',\n",
       "       'Human Papillomavirus Prophylaxis', 'Glioblastoma Multiforme',\n",
       "       'Strep Throat', 'Bacterial Skin Infection',\n",
       "       'Hereditary Angioedema', 'Cold Symptoms', 'Labor Pain', 'Dry Skin',\n",
       "       'Diabetes Insipidus',\n",
       "       'Methicillin-Resistant Staphylococcus Aureus Infection',\n",
       "       'Borderline Personality Disorde', 'Amenorrhea', 'Pneumonia',\n",
       "       'Seborrheic Dermatitis', 'Interstitial Cystitis',\n",
       "       'Malaria Prevention', 'Prevention of Dental Caries',\n",
       "       'Herbal Supplementation', 'Plaque Psoriasis', \"Raynaud's Syndrome\",\n",
       "       \"Addison's Disease\", 'Prostate Cance', 'Allergies',\n",
       "       'Opioid-Induced Constipation', 'moterol)', 'Diarrhea',\n",
       "       'Seasonal Allergic Conjunctivitis', 'Opioid Overdose',\n",
       "       'Spondylolisthesis', 'Shift Work Sleep Disorde',\n",
       "       'Obstructive Sleep Apnea/Hypopnea Syndrome',\n",
       "       'Nausea/Vomiting of Pregnancy', 'Mucositis',\n",
       "       'Ulcerative Colitis, Active', 'Head Lice',\n",
       "       'Tonsillitis/Pharyngitis', 'Pseudotumor Cerebri',\n",
       "       \"Parkinson's Disease\", 'Sciatica', 'Cance',\n",
       "       'Bacterial Endocarditis Prevention', 'Diarrhea, Chronic',\n",
       "       'Hypertensive Emergency', 'Keratosis', 'Ovarian Cysts',\n",
       "       \"Behcet's Disease\", 'Chronic Idiopathic Constipation',\n",
       "       'lic Acid Deficiency', 'Chronic Fatigue Syndrome',\n",
       "       'Basal Cell Carcinoma', 'Cataplexy',\n",
       "       \"Crohn's Disease, Maintenance\", 'Diabetic Peripheral Neuropathy',\n",
       "       'Arrhythmia', 'Primary Ovarian Failure', 'Influenza Prophylaxis',\n",
       "       'Agitated State', 'Heart Failure', 'atigue', 'Opiate Withdrawal',\n",
       "       'Endometrial Hyperplasia, Prophylaxis', 'Immunosuppression',\n",
       "       'Dystonia', 'Alopecia', 'Vulvodynia',\n",
       "       'Premenstrual Dysphoric Disorde', 'Alcohol Dependence',\n",
       "       'Myasthenia Gravis', 'Social Anxiety Disorde', 'Atopic Dermatitis',\n",
       "       'Schistosoma japonicum', 'Sinus Symptoms', 'min / sitagliptin)',\n",
       "       'Dermatitis', 'Eye Redness', 'Warts', 'Menorrhagia',\n",
       "       'Seizure Prevention', 'Ophthalmic Surgery', 'Skin Rash',\n",
       "       'Condylomata Acuminata', 'NSAID-Induced Ulcer Prophylaxis',\n",
       "       'Tinea Versicol', 'Peripheral Neuropathy', 'Deep Vein Thrombosis',\n",
       "       'Heart Attack', 'Pulmonary Embolism, Recurrent Event',\n",
       "       'Light Sedation', 'Acute Lymphoblastic Leukemia',\n",
       "       'Hyperprolactinemia', 'Indigestion', 'Hepatitis B', 'Dysautonomia',\n",
       "       'Status Epilepticus', 'Postpartum Depression', 'Multiple Myeloma',\n",
       "       'Prevention of Hypokalemia', 'Edema', 'Urinary Retention',\n",
       "       'Prevention of Thromboembolism in Atrial Fibrillation',\n",
       "       'Cluster Headaches', 'Sexual Dysfunction, SSRI Induced',\n",
       "       'Dermatitis Herpetiformis', 'Temporomandibular Joint Disorde',\n",
       "       'Burns, External', 'Actinic Keratosis', 'Pharyngitis',\n",
       "       'Melanoma, Metastatic', 'Atrial Flutte', 'Lyme Disease',\n",
       "       'Dry Eye Disease', 'Allergic Reactions', 'Hypertriglyceridemia',\n",
       "       'Pruritus', 'Carcinoid Tum', 'Muscle Pain', 'Colorectal Cance',\n",
       "       'Vitamin/Mineral Supplementation during Pregnancy/Lactation',\n",
       "       'Nausea/Vomiting, Chemotherapy Induced', 'Women (oxybutynin)',\n",
       "       'Primary Immunodeficiency Syndrome',\n",
       "       'New Daily Persistent Headache',\n",
       "       'Pneumococcal Disease Prophylaxis', 'Burning Mouth Syndrome',\n",
       "       'Urinary Tract Stones', 'Pseudobulbar Affect',\n",
       "       'Eye Redness/Itching', 'Deep Vein Thrombosis, First Event',\n",
       "       'Pulmonary Hypertension', 'Malaria', 'Sarcoidosis',\n",
       "       'Dietary Supplementation', 'Bulimia', 'Tendonitis', 'Nasal Polyps',\n",
       "       'Hypokalemia', 'Anemia, Sickle Cell', 'Uveitis',\n",
       "       'Streptococcal Infection', 'Perimenopausal Symptoms',\n",
       "       'Asperger Syndrome', 'Tinea Corporis', 'Mania',\n",
       "       'Renal Cell Carcinoma', 'COPD', 'Biliary Cirrhosis', 'Vertig',\n",
       "       'Reversal of Opioid Sedation', \"Non-Hodgkin's Lymphoma\",\n",
       "       'High Cholesterol, Familial Homozygous',\n",
       "       'Periodic Limb Movement Disorde', 'Supraventricular Tachycardia',\n",
       "       'Hypoestrogenism', 'Juvenile Idiopathic Arthritis', 'Swine Flu',\n",
       "       'Giardiasis', 'Binge Eating Disorde', \"Tourette's Syndrome\",\n",
       "       'Trichomoniasis', 'acial Wrinkles', 'Pulmonary Embolism',\n",
       "       'Conjunctivitis, Allergic', 'Avian Influenza', 'Hemangioma',\n",
       "       'Nocturnal Leg Cramps', 'Thyroid Suppression Test',\n",
       "       'Muscle Twitching', 'Pupillary Dilation',\n",
       "       'Lennox-Gastaut Syndrome', 'Opiate Adjunct', 'Postoperative Pain',\n",
       "       'Candida Urinary Tract Infection', 'Cerebral Spasticity',\n",
       "       'Lipodystrophy', 'Androgenetic Alopecia', 'Computed Tomography',\n",
       "       'Mitral Valve Prolapse', 'Vitamin D Deficiency',\n",
       "       'Glaucoma, Open Angle', 'Endoscopy or Radiology Premedication',\n",
       "       \"Alzheimer's Disease\", 'Gouty Arthritis',\n",
       "       'Paroxysmal Supraventricular Tachycardia',\n",
       "       'Deep Vein Thrombosis, Prophylaxis', 'Gaucher Disease',\n",
       "       'Lymphocytic Colitis', 'Pancreatic Cance', 'Cystic Fibrosis',\n",
       "       'Noninfectious Colitis', 'Nephrocalcinosis',\n",
       "       'Iron Deficiency Anemia', 'mulation) (phenylephrine)', 'Hiccups',\n",
       "       'Bronchospasm Prophylaxis', 'Chronic Spasticity',\n",
       "       'min / saxagliptin)', 'Post-Cholecystectomy Diarrhea',\n",
       "       'Postherpetic Neuralgia', 'Insomnia, Stimulant-Associated',\n",
       "       'COPD, Acute', 'Herpes Simplex Dendritic Keratitis',\n",
       "       'Oophorectomy', 'Cyclic Vomiting Syndrome',\n",
       "       'Chronic Lymphocytic Leukemia', 'Lyme Disease, Arthritis',\n",
       "       'Pseudomembranous Colitis', 'Conjunctivitis', 'min)',\n",
       "       'Intraocular Hypertension', 'Aphthous Ulce',\n",
       "       'Ulcerative Colitis, Maintenance', 'Melasma',\n",
       "       'Lyme Disease, Neurologic', 'ge (amlodipine / valsartan)',\n",
       "       'Herpes Zoste', 'Cervical Dystonia', 'Labor Induction',\n",
       "       'Human Papilloma Virus', 'Chronic Pancreatitis',\n",
       "       'Polycythemia Vera', 'Dermatological Disorders',\n",
       "       'Lewy Body Dementia', 'amilial Mediterranean Feve', 'Neurosurgery',\n",
       "       'Gastroenteritis', 'Macular Edema', 'Tinea Pedis',\n",
       "       'Diagnosis and Investigation', 'Gas', 'Neuralgia',\n",
       "       'Local Anesthesia', 'Acute Coronary Syndrome',\n",
       "       'Aspiration Pneumonia', 'Idiopathic Thrombocytopenic Purpura',\n",
       "       'Onychomycosis, Fingernail', 'Photoaging of the Skin',\n",
       "       'Premature Lab', 'Precocious Puberty',\n",
       "       'Prevention of Bladder infection', 'Seasonal Affective Disorde',\n",
       "       'Diabetic Kidney Disease', \"Crohn's Disease, Acute\",\n",
       "       'Insulin Resistance Syndrome', 'Pudendal Neuralgia',\n",
       "       \"Reiter's Syndrome\", 'Amyotrophic Lateral Sclerosis',\n",
       "       'Body Dysmorphic Disorde',\n",
       "       'Prosthetic Heart Valves, Mechanical Valves - Thrombosis Prophylaxis',\n",
       "       'Dandruff', 'Vitamin B12 Deficiency', 'Bone infection',\n",
       "       'Prosthetic Heart Valves, Tissue Valves - Thrombosis Prophylaxis',\n",
       "       'Iritis', 'Allergic Urticaria', 'Cardiovascular Risk Reduction',\n",
       "       'Giant Cell Tumor of Bone', 'Babesiosis',\n",
       "       'Secondary Hyperparathyroidism', 'Hypoparathyroidism',\n",
       "       'Performance Anxiety', 'Abortion', 'Skin Cance',\n",
       "       'Ovulation Induction', 'Liver Magnetic Resonance Imaging',\n",
       "       'Vitamin/Mineral Supplementation and Deficiency',\n",
       "       'Herpes Simplex, Mucocutaneous/Immunocompetent Host',\n",
       "       'Anemia Associated with Chronic Renal Failure',\n",
       "       'Hyperphosphatemia of Renal Failure',\n",
       "       'Dissociative Identity Disorde', 'Anal Fissure and Fistula',\n",
       "       'Herpes Simplex, Mucocutaneous/Immunocompromised Host', 'Scabies',\n",
       "       'Endometrial Cance', 'Transient Ischemic Attack',\n",
       "       'Granuloma Annulare', \"Traveler's Diarrhea\", 'Candidemia',\n",
       "       't Pac with Cyclobenzaprine (cyclobenzaprine)',\n",
       "       'Hypoactive Sexual Desire Disorde', 'Epicondylitis, Tennis Elbow',\n",
       "       'Nightmares', 'Dientamoeba fragilis', 'Ventricular Tachycardia',\n",
       "       'Dumping Syndrome', 'Myelodysplastic Syndrome', 'Hypodermoclysis',\n",
       "       'zen Shoulde', 'Topical Disinfection', 'Perioral Dermatitis',\n",
       "       'Agitation', 'Intermittent Claudication',\n",
       "       'Prevention of Osteoporosis', 'Leukemia', 'Dermatitis Herpeti',\n",
       "       'mis', 'Eosinophilic Esophagitis',\n",
       "       'Hyperlipoproteinemia Type IIa, Elevated LDL',\n",
       "       'Endometrial Hyperplasia', 'Peptic Ulce',\n",
       "       'Chronic Myofascial Pain', 'Enterocolitis',\n",
       "       'Secondary Cutaneous Bacterial Infections', 'Syringomyelia',\n",
       "       'Postoperative Ocular Inflammation',\n",
       "       'Persistent Depressive Disorde', 'Otitis Externa',\n",
       "       'Organ Transplant, Rejection Prophylaxis',\n",
       "       'Intermittent Explosive Disorde', 'Dermatophytosis',\n",
       "       'Inflammatory Bowel Disease', 'Porphyria', 'Anemia',\n",
       "       'Hyperuricemia Secondary to Chemotherapy',\n",
       "       'Wolff-Parkinson-White Syndrome', 'eve', 'Ectopic Pregnancy',\n",
       "       'Thyroid Cance', 'Tuberculosis, Latent',\n",
       "       'Nasal Carriage of Staphylococcus aureus', 'Systemic Candidiasis',\n",
       "       'Ear Wax Impaction', 'Hepatocellular Carcinoma', 'Dyspareunia',\n",
       "       'Tic Disorde', 'Head and Neck Cance', 'Klinefelter Syndrome',\n",
       "       'Rhinorrhea', 'Soft Tissue Sarcoma', 'Diabetic Macular Edema',\n",
       "       'Menopausal Disorders', 'Anesthetic Adjunct', 'Tinea Cruris',\n",
       "       'tic (mycophenolic acid)', 'Ischemic Stroke', 'Malignant Glioma',\n",
       "       'Thrombocythemia', 'Atrophic Urethritis', 'Systemic Sclerosis',\n",
       "       'Macular Degeneration', 'AIDS Related Wasting', 'Hemophilia A',\n",
       "       'Osteolytic Bone Lesions of Multiple Myeloma',\n",
       "       'Autoimmune Hemolytic Anemia', 'ailure to Thrive',\n",
       "       'Strongyloidiasis', 'Vitamin K Deficiency', 'Ulcerative Proctitis',\n",
       "       'Premenstrual Syndrome', 'Primary Hyperaldosteronism',\n",
       "       'Lactose Intolerance', 'Anal Itching',\n",
       "       'amilial Cold Autoinflammatory Syndrome', 'Duodenal Ulce',\n",
       "       'Tuberculosis, Prophylaxis', 'Neurosis', \"Turner's Syndrome\",\n",
       "       'NSAID-Induced Gastric Ulce', 'CNS Magnetic Resonance Imaging',\n",
       "       'Atherosclerosis',\n",
       "       'Deep Vein Thrombosis Prophylaxis after Hip Replacement Surgery',\n",
       "       'Gastritis/Duodenitis', 'Diarrhea, Acute', 'Costochondritis',\n",
       "       'Portal Hypertension', 'Glaucoma/Intraocular Hypertension',\n",
       "       'Toothache', 'Benzodiazepine Withdrawal', 'm Pain Disorde',\n",
       "       'Esophageal Candidiasis',\n",
       "       'Deep Vein Thrombosis Prophylaxis after Knee Replacement Surgery',\n",
       "       'Peripheral Arterial Disease',\n",
       "       'Deep Vein Thrombosis, Recurrent Event', 'Pseudogout, Prophylaxis',\n",
       "       'Lichen Planus', 'CMV Prophylaxis', 'Neuritis', 'Typhoid Feve',\n",
       "       'Tardive Dyskinesia', 'Ichthyosis',\n",
       "       'Juvenile Rheumatoid Arthritis', 'B12 Nutritional Deficiency',\n",
       "       'Primary Nocturnal Enuresis', \"Dercum's Disease\",\n",
       "       'Cutaneous Candidiasis', 'Gingivitis', 'Q Feve', 'Hyperekplexia',\n",
       "       'Niacin Deficiency', 'Dietary Fiber Supplementation',\n",
       "       'Nephrotic Syndrome',\n",
       "       'Pinworm Infection (Enterobius vermicularis)',\n",
       "       'Pancreatic Exocrine Dysfunction',\n",
       "       'Nausea/Vomiting, Radiation Induced', 'Schilling Test',\n",
       "       'Mild Cognitive Impairment', 'Ischemic Stroke, Prophylaxis',\n",
       "       'Gonococcal Infection, Uncomplicated', 'Ovarian Cance',\n",
       "       'Eyelash Hypotrichosis', \"Meniere's Disease\", 'Tinea Capitis',\n",
       "       'Lichen Sclerosus', 'min / pioglitazone)', 'Renal Transplant',\n",
       "       'Gout, Prophylaxis', \"von Willebrand's Disease\",\n",
       "       'Prevention of Atherothrombotic Events', 'Small Fiber Neuropathy',\n",
       "       'min / rosiglitazone)', \"Peyronie's Disease\",\n",
       "       'Autoimmune Hepatitis', 'llicular Lymphoma',\n",
       "       'Auditory Processing Disorde', 'Herpes Zoster, Prophylaxis',\n",
       "       'Submental Fullness', 'Lactation Augmentation',\n",
       "       'Radionuclide Myocardial Perfusion Study',\n",
       "       'Prevention of Cardiovascular Disease', 'Varicella-Zoste',\n",
       "       'Pelvic Inflammatory Disease', 'Intraabdominal Infection', 'Croup',\n",
       "       'Dermatologic Lesion',\n",
       "       'Hyperlipoproteinemia Type IV, Elevated VLDL', 'Expectoration',\n",
       "       'Primary Hyperaldosteronism Diagnosis', 'Abdominal Distension',\n",
       "       'Salivary Gland Cance', 'Pulmonary Embolism, First Event',\n",
       "       'Postpartum Breast Pain',\n",
       "       'Postural Orthostatic Tachycardia Syndrome',\n",
       "       'Pediatric Growth Hormone Deficiency', 'Hypomagnesemia',\n",
       "       'ge HCT (amlodipine / hydrochlorothiazide / valsartan)',\n",
       "       'Hairy Cell Leukemia', 'Histoplasmosis', 'Hypoglycemia',\n",
       "       'Brain Tum', 'Gastrointestinal Stromal Tum', 'Tetanus',\n",
       "       'Breast Cancer, Prevention', 'ICU Agitation', 'Women (minoxidil)',\n",
       "       'Peripheral T-cell Lymphoma',\n",
       "       'Chronic Inflammatory Demyelinating Polyradiculoneuropathy',\n",
       "       'Pathological Hypersecretory Conditions',\n",
       "       'Oral and Dental Conditions', 'Antiphospholipid Syndrome',\n",
       "       'Ventricular Arrhythmia', 'Asystole', \"Wegener's Granulomatosis\",\n",
       "       'Thromboembolic Stroke Prophylaxis',\n",
       "       'Platelet Aggregation Inhibition', 'Sleep Paralysis',\n",
       "       'Rejection Prophylaxis', 'Delayed Puberty, Male', 'Ascariasis',\n",
       "       'Acute Promyelocytic Leukemia', 'Bartonellosis',\n",
       "       'Cyclothymic Disorde', 'Hypokalemic Periodic Paralysis',\n",
       "       'Varicose Veins', 'Mononucleosis', 'Cachexia', 'Hyperkalemia',\n",
       "       \"Still's Disease\", 'Dementia', 'Ocular Rosacea',\n",
       "       'Hidradenitis Suppurativa', 'SIADH', 'Bullous Pemphigoid',\n",
       "       'Angioedema', 'Mountain Sickness / Altitude Sickness',\n",
       "       'Severe Mood Dysregulation', 'Cutaneous T-cell Lymphoma',\n",
       "       'Adrenocortical Insufficiency', 'Myxedema Coma',\n",
       "       'Small Bowel Bacterial Overgrowth', 'Sunburn',\n",
       "       'Transverse Myelitis', 'Squamous Cell Carcinoma', 'Parkinsonism',\n",
       "       'Thyrotoxicosis', 'Epididymitis, Sexually Transmitted',\n",
       "       'Neck Pain', 'Bleeding Disorde', 'actor IX Deficiency', 'Melanoma',\n",
       "       'Thrombocytopenia', 'Esophageal Variceal Hemorrhage Prophylaxis',\n",
       "       'Glioblastoma Multi', 'Cholera', 'Anorexia/Feeding Problems',\n",
       "       'Peritonitis', 'AV Heart Block', 'Pe', \"Wilson's Disease\",\n",
       "       'Nonalcoholic Fatty Liver Disease', 'Sepsis', 'Anthrax',\n",
       "       'Body Imaging', 'Aggressive Behavi', 'Hepatic Tum', 'Ehrlichiosis',\n",
       "       'Hypopituitarism', 'Gender Dysphoria', 'Infectious Diarrhea',\n",
       "       'Ventricular Fibrillation', 'Anaphylaxis', 'Pemphigus',\n",
       "       'Multiple Endocrine Adenomas', 'Pre-Exposure Prophylaxis',\n",
       "       'Postoperative Increased Intraocular Pressure',\n",
       "       'Pruritus of Partial Biliary Obstruction', 'Pertussis',\n",
       "       'Periodontitis', 'Lymphoma', 'Hypercalcemia of Malignancy',\n",
       "       'Pityriasis rubra pilaris', 'Amebiasis', 't Care',\n",
       "       'Hepatic Encephalopathy', 'Deep Neck Infection',\n",
       "       'Meningitis, Meningococcal', 'Parkinsonian Trem',\n",
       "       'Rabies Prophylaxis', 'Hypotension', 'Myelofibrosis',\n",
       "       'cal Segmental Glomerulosclerosis',\n",
       "       'Gastric Ulcer Maintenance Treatment', \"Paget's Disease\",\n",
       "       'Infection Prophylaxis', 'Gastrointestinal Decontamination',\n",
       "       'Mixed Connective Tissue Disease', 'Somatoform Pain Disorde',\n",
       "       'Esophageal Spasm', 'Campylobacter Gastroenteritis',\n",
       "       'Hyperphosphatemia', 'Oligospermia', 'Wound Cleansing',\n",
       "       'Euvolemic Hyponatremia', 'Gallbladder Disease',\n",
       "       'Mycobacterium avium-intracellulare, Treatment',\n",
       "       'Oppositional Defiant Disorde', 'Legionella Pneumonia',\n",
       "       'Breast Cancer, Palliative', 'Hydrocephalus',\n",
       "       'Hyperlipoproteinemia Type III, Elevated beta-VLDL   IDL',\n",
       "       'Anaplastic Astrocytoma', \"Dupuytren's contracture\",\n",
       "       'Mumps Prophylaxis', 'Skin Disinfection, Preoperative',\n",
       "       'Hyperbilirubinemia', 'Meningitis', 'Corneal Ulce',\n",
       "       'acial Lipoatrophy', 'Percutaneous Coronary Intervention',\n",
       "       'Hepatitis B Prevention', 'Tuberculosis, Active',\n",
       "       'Cerebrovascular Insufficiency', 'Head Injury',\n",
       "       'Anti NMDA Receptor Encephalitis', 'Nonoccupational Exposure',\n",
       "       'Gonadotropin Inhibition', 'unctional Gastric Disorde',\n",
       "       'Chronic Eosinophilic Leukemia', 'Acetaminophen Overdose',\n",
       "       'Duodenal Ulcer Prophylaxis', 'Paragonimus westermani, Lung Fluke',\n",
       "       'Alpha-1 Proteinase Inhibitor Deficiency', \"Cogan's Syndrome\",\n",
       "       'Uterine Bleeding', 'Stomach Cance', 'Sporotrichosis',\n",
       "       'Cluster-Tic Syndrome', 'Gestational Diabetes',\n",
       "       'Stress Ulcer Prophylaxis',\n",
       "       'Reversal of Nondepolarizing Muscle Relaxants', 'Solid Tumors',\n",
       "       'mist (', 'Schnitzler Syndrome', 'Hypocalcemia',\n",
       "       'Meningococcal Meningitis Prophylaxis', 'Nocardiosis',\n",
       "       'Hemophilia B', 'Microscopic polyangiitis',\n",
       "       'Gonococcal Infection, Disseminated', 'Neurotic Depression',\n",
       "       'Keratitis', \"Hodgkin's Lymphoma\", 'me', 'STD Prophylaxis',\n",
       "       'Small Bowel or Pancreatic Fistula',\n",
       "       'Prevention of Perinatal Group B Streptococcal Disease',\n",
       "       'Cerebral Edema', 'Testicular Cance', 'Short Stature for Age',\n",
       "       'Aspergillosis, Aspergilloma', 'Pemphigoid',\n",
       "       'Hyperparathyroidism Secondary to Renal Impairment',\n",
       "       'Ramsay Hunt Syndrome', 'Cutaneous Larva Migrans',\n",
       "       'Occipital Neuralgia', 'Blepharitis', 'Patent Ductus Arteriosus',\n",
       "       'Joint Infection', 'Manscaping Pain', 'Strabismus',\n",
       "       'Organ Transplant, Rejection Reversal',\n",
       "       'Leukocytoclastic Vasculitis', 'Coronary Artery Disease',\n",
       "       'Gastric Cance', 'ibrocystic Breast Disease',\n",
       "       'ungal Infection Prophylaxis', 'Short Stature', 'Hypercalcemia',\n",
       "       'Coccidioidomycosis', 'Cyclitis', 'Anemia, Chemotherapy Induced',\n",
       "       'Upper Limb Spasticity', 'Diagnostic Bronchograms',\n",
       "       'Neoplastic Diseases', 'Mycoplasma Pneumonia',\n",
       "       'Linear IgA Disease', 'Subarachnoid Hemorrhage',\n",
       "       'Myeloproliferative Disorders', 'ungal Pneumonia', 'Scleroderma',\n",
       "       'Zollinger-Ellison Syndrome', 'Tinea Barbae',\n",
       "       'Acute Nonlymphocytic Leukemia', 'Neutropenia'], dtype=object)"
      ]
     },
     "execution_count": 13,
     "metadata": {},
     "output_type": "execute_result"
    }
   ],
   "source": [
    "train.condition.unique()"
   ]
  },
  {
   "cell_type": "code",
   "execution_count": 14,
   "id": "77aaf601",
   "metadata": {},
   "outputs": [
    {
     "data": {
      "text/plain": [
       "811"
      ]
     },
     "execution_count": 14,
     "metadata": {},
     "output_type": "execute_result"
    }
   ],
   "source": [
    "train.condition.nunique()"
   ]
  },
  {
   "cell_type": "code",
   "execution_count": 15,
   "id": "d59ebede",
   "metadata": {},
   "outputs": [
    {
     "data": {
      "text/html": [
       "<div>\n",
       "<style scoped>\n",
       "    .dataframe tbody tr th:only-of-type {\n",
       "        vertical-align: middle;\n",
       "    }\n",
       "\n",
       "    .dataframe tbody tr th {\n",
       "        vertical-align: top;\n",
       "    }\n",
       "\n",
       "    .dataframe thead th {\n",
       "        text-align: right;\n",
       "    }\n",
       "</style>\n",
       "<table border=\"1\" class=\"dataframe\">\n",
       "  <thead>\n",
       "    <tr style=\"text-align: right;\">\n",
       "      <th></th>\n",
       "      <th>uniqueID</th>\n",
       "      <th>rating</th>\n",
       "      <th>usefulCount</th>\n",
       "    </tr>\n",
       "  </thead>\n",
       "  <tbody>\n",
       "    <tr>\n",
       "      <th>count</th>\n",
       "      <td>159498.000000</td>\n",
       "      <td>159498.000000</td>\n",
       "      <td>159498.000000</td>\n",
       "    </tr>\n",
       "    <tr>\n",
       "      <th>mean</th>\n",
       "      <td>115950.440325</td>\n",
       "      <td>6.997147</td>\n",
       "      <td>28.192335</td>\n",
       "    </tr>\n",
       "    <tr>\n",
       "      <th>std</th>\n",
       "      <td>66998.007821</td>\n",
       "      <td>3.272517</td>\n",
       "      <td>36.512639</td>\n",
       "    </tr>\n",
       "    <tr>\n",
       "      <th>min</th>\n",
       "      <td>2.000000</td>\n",
       "      <td>1.000000</td>\n",
       "      <td>0.000000</td>\n",
       "    </tr>\n",
       "    <tr>\n",
       "      <th>25%</th>\n",
       "      <td>58082.500000</td>\n",
       "      <td>5.000000</td>\n",
       "      <td>6.000000</td>\n",
       "    </tr>\n",
       "    <tr>\n",
       "      <th>50%</th>\n",
       "      <td>115819.500000</td>\n",
       "      <td>8.000000</td>\n",
       "      <td>16.000000</td>\n",
       "    </tr>\n",
       "    <tr>\n",
       "      <th>75%</th>\n",
       "      <td>173807.250000</td>\n",
       "      <td>10.000000</td>\n",
       "      <td>37.000000</td>\n",
       "    </tr>\n",
       "    <tr>\n",
       "      <th>max</th>\n",
       "      <td>232291.000000</td>\n",
       "      <td>10.000000</td>\n",
       "      <td>1291.000000</td>\n",
       "    </tr>\n",
       "  </tbody>\n",
       "</table>\n",
       "</div>"
      ],
      "text/plain": [
       "            uniqueID         rating    usefulCount\n",
       "count  159498.000000  159498.000000  159498.000000\n",
       "mean   115950.440325       6.997147      28.192335\n",
       "std     66998.007821       3.272517      36.512639\n",
       "min         2.000000       1.000000       0.000000\n",
       "25%     58082.500000       5.000000       6.000000\n",
       "50%    115819.500000       8.000000      16.000000\n",
       "75%    173807.250000      10.000000      37.000000\n",
       "max    232291.000000      10.000000    1291.000000"
      ]
     },
     "execution_count": 15,
     "metadata": {},
     "output_type": "execute_result"
    }
   ],
   "source": [
    "train.describe()"
   ]
  },
  {
   "cell_type": "code",
   "execution_count": 16,
   "id": "10ac551a",
   "metadata": {},
   "outputs": [
    {
     "data": {
      "text/html": [
       "<div>\n",
       "<style scoped>\n",
       "    .dataframe tbody tr th:only-of-type {\n",
       "        vertical-align: middle;\n",
       "    }\n",
       "\n",
       "    .dataframe tbody tr th {\n",
       "        vertical-align: top;\n",
       "    }\n",
       "\n",
       "    .dataframe thead th {\n",
       "        text-align: right;\n",
       "    }\n",
       "</style>\n",
       "<table border=\"1\" class=\"dataframe\">\n",
       "  <thead>\n",
       "    <tr style=\"text-align: right;\">\n",
       "      <th></th>\n",
       "      <th>uniqueID</th>\n",
       "      <th>drugName</th>\n",
       "      <th>condition</th>\n",
       "      <th>review</th>\n",
       "      <th>rating</th>\n",
       "      <th>date</th>\n",
       "      <th>usefulCount</th>\n",
       "    </tr>\n",
       "  </thead>\n",
       "  <tbody>\n",
       "    <tr>\n",
       "      <th>16</th>\n",
       "      <td>48188</td>\n",
       "      <td>Trimethoprim</td>\n",
       "      <td>Urinary Tract Infection</td>\n",
       "      <td>\"This drug worked very well for me and cleared...</td>\n",
       "      <td>9</td>\n",
       "      <td>22-Sep-17</td>\n",
       "      <td>0</td>\n",
       "    </tr>\n",
       "    <tr>\n",
       "      <th>38</th>\n",
       "      <td>60678</td>\n",
       "      <td>MoviPrep</td>\n",
       "      <td>Bowel Preparation</td>\n",
       "      <td>\"I have taken this at least 5-6 times for the ...</td>\n",
       "      <td>2</td>\n",
       "      <td>29-Jun-17</td>\n",
       "      <td>0</td>\n",
       "    </tr>\n",
       "    <tr>\n",
       "      <th>45</th>\n",
       "      <td>111409</td>\n",
       "      <td>Ledipasvir / sofosbuvir</td>\n",
       "      <td>Hepatitis C</td>\n",
       "      <td>\"At initial testing my VL was over 6 million. ...</td>\n",
       "      <td>10</td>\n",
       "      <td>22-Sep-15</td>\n",
       "      <td>0</td>\n",
       "    </tr>\n",
       "    <tr>\n",
       "      <th>97</th>\n",
       "      <td>60280</td>\n",
       "      <td>NuvaRing</td>\n",
       "      <td>Birth Control</td>\n",
       "      <td>\"I am torn by the Nuvaring. The convenience is...</td>\n",
       "      <td>5</td>\n",
       "      <td>31-Oct-11</td>\n",
       "      <td>0</td>\n",
       "    </tr>\n",
       "    <tr>\n",
       "      <th>101</th>\n",
       "      <td>229524</td>\n",
       "      <td>Lurasidone</td>\n",
       "      <td>Schizophrenia</td>\n",
       "      <td>\"I&amp;#039;ve been on Latuda for a little under 2...</td>\n",
       "      <td>8</td>\n",
       "      <td>26-Sep-15</td>\n",
       "      <td>0</td>\n",
       "    </tr>\n",
       "    <tr>\n",
       "      <th>...</th>\n",
       "      <td>...</td>\n",
       "      <td>...</td>\n",
       "      <td>...</td>\n",
       "      <td>...</td>\n",
       "      <td>...</td>\n",
       "      <td>...</td>\n",
       "      <td>...</td>\n",
       "    </tr>\n",
       "    <tr>\n",
       "      <th>161252</th>\n",
       "      <td>230002</td>\n",
       "      <td>Myobloc</td>\n",
       "      <td>Cervical Dystonia</td>\n",
       "      <td>\"I was given this for spasms in upper spine an...</td>\n",
       "      <td>1</td>\n",
       "      <td>22-Nov-17</td>\n",
       "      <td>0</td>\n",
       "    </tr>\n",
       "    <tr>\n",
       "      <th>161257</th>\n",
       "      <td>142183</td>\n",
       "      <td>Levonorgestrel</td>\n",
       "      <td>Birth Control</td>\n",
       "      <td>\"There are some bad reviews about Kyleena - so...</td>\n",
       "      <td>10</td>\n",
       "      <td>6-Dec-17</td>\n",
       "      <td>0</td>\n",
       "    </tr>\n",
       "    <tr>\n",
       "      <th>161273</th>\n",
       "      <td>109111</td>\n",
       "      <td>Nexplanon</td>\n",
       "      <td>Birth Control</td>\n",
       "      <td>\"I have had the Nexplanon since Dec. 27, 2016 ...</td>\n",
       "      <td>6</td>\n",
       "      <td>6-Apr-17</td>\n",
       "      <td>0</td>\n",
       "    </tr>\n",
       "    <tr>\n",
       "      <th>161276</th>\n",
       "      <td>176146</td>\n",
       "      <td>Lorazepam</td>\n",
       "      <td>Anxiety</td>\n",
       "      <td>\"About 4 years ago I started having early-morn...</td>\n",
       "      <td>8</td>\n",
       "      <td>21-Nov-17</td>\n",
       "      <td>0</td>\n",
       "    </tr>\n",
       "    <tr>\n",
       "      <th>161291</th>\n",
       "      <td>164345</td>\n",
       "      <td>Junel 1.5 / 30</td>\n",
       "      <td>Birth Control</td>\n",
       "      <td>\"This would be my second month on Junel. I&amp;#03...</td>\n",
       "      <td>6</td>\n",
       "      <td>27-May-15</td>\n",
       "      <td>0</td>\n",
       "    </tr>\n",
       "  </tbody>\n",
       "</table>\n",
       "<p>6113 rows × 7 columns</p>\n",
       "</div>"
      ],
      "text/plain": [
       "        uniqueID                 drugName                condition  \\\n",
       "16         48188             Trimethoprim  Urinary Tract Infection   \n",
       "38         60678                 MoviPrep        Bowel Preparation   \n",
       "45        111409  Ledipasvir / sofosbuvir              Hepatitis C   \n",
       "97         60280                 NuvaRing            Birth Control   \n",
       "101       229524               Lurasidone            Schizophrenia   \n",
       "...          ...                      ...                      ...   \n",
       "161252    230002                  Myobloc        Cervical Dystonia   \n",
       "161257    142183           Levonorgestrel            Birth Control   \n",
       "161273    109111                Nexplanon            Birth Control   \n",
       "161276    176146                Lorazepam                  Anxiety   \n",
       "161291    164345           Junel 1.5 / 30            Birth Control   \n",
       "\n",
       "                                                   review  rating       date  \\\n",
       "16      \"This drug worked very well for me and cleared...       9  22-Sep-17   \n",
       "38      \"I have taken this at least 5-6 times for the ...       2  29-Jun-17   \n",
       "45      \"At initial testing my VL was over 6 million. ...      10  22-Sep-15   \n",
       "97      \"I am torn by the Nuvaring. The convenience is...       5  31-Oct-11   \n",
       "101     \"I&#039;ve been on Latuda for a little under 2...       8  26-Sep-15   \n",
       "...                                                   ...     ...        ...   \n",
       "161252  \"I was given this for spasms in upper spine an...       1  22-Nov-17   \n",
       "161257  \"There are some bad reviews about Kyleena - so...      10   6-Dec-17   \n",
       "161273  \"I have had the Nexplanon since Dec. 27, 2016 ...       6   6-Apr-17   \n",
       "161276  \"About 4 years ago I started having early-morn...       8  21-Nov-17   \n",
       "161291  \"This would be my second month on Junel. I&#03...       6  27-May-15   \n",
       "\n",
       "        usefulCount  \n",
       "16                0  \n",
       "38                0  \n",
       "45                0  \n",
       "97                0  \n",
       "101               0  \n",
       "...             ...  \n",
       "161252            0  \n",
       "161257            0  \n",
       "161273            0  \n",
       "161276            0  \n",
       "161291            0  \n",
       "\n",
       "[6113 rows x 7 columns]"
      ]
     },
     "execution_count": 16,
     "metadata": {},
     "output_type": "execute_result"
    }
   ],
   "source": [
    "train[train['usefulCount'] == 0]"
   ]
  },
  {
   "cell_type": "code",
   "execution_count": 17,
   "id": "4e9ccfd1",
   "metadata": {},
   "outputs": [
    {
     "data": {
      "text/plain": [
       "6113"
      ]
     },
     "execution_count": 17,
     "metadata": {},
     "output_type": "execute_result"
    }
   ],
   "source": [
    "train[train['usefulCount'] == 0].count()[0]"
   ]
  },
  {
   "cell_type": "code",
   "execution_count": 18,
   "id": "8a26b12d",
   "metadata": {},
   "outputs": [
    {
     "data": {
      "text/plain": [
       "0"
      ]
     },
     "execution_count": 18,
     "metadata": {},
     "output_type": "execute_result"
    }
   ],
   "source": [
    "train[(train['usefulCount'] == 0) & train['rating'] >= 8].count()[0]"
   ]
  },
  {
   "cell_type": "code",
   "execution_count": 19,
   "id": "c9235664",
   "metadata": {},
   "outputs": [
    {
     "data": {
      "text/html": [
       "<div>\n",
       "<style scoped>\n",
       "    .dataframe tbody tr th:only-of-type {\n",
       "        vertical-align: middle;\n",
       "    }\n",
       "\n",
       "    .dataframe tbody tr th {\n",
       "        vertical-align: top;\n",
       "    }\n",
       "\n",
       "    .dataframe thead th {\n",
       "        text-align: right;\n",
       "    }\n",
       "</style>\n",
       "<table border=\"1\" class=\"dataframe\">\n",
       "  <thead>\n",
       "    <tr style=\"text-align: right;\">\n",
       "      <th></th>\n",
       "      <th>uniqueID</th>\n",
       "      <th>drugName</th>\n",
       "      <th>condition</th>\n",
       "      <th>review</th>\n",
       "      <th>rating</th>\n",
       "      <th>date</th>\n",
       "      <th>usefulCount</th>\n",
       "    </tr>\n",
       "  </thead>\n",
       "  <tbody>\n",
       "    <tr>\n",
       "      <th>4249</th>\n",
       "      <td>182560</td>\n",
       "      <td>Mirena</td>\n",
       "      <td>Birth Control</td>\n",
       "      <td>\"I have had my IUD for over a year now and I t...</td>\n",
       "      <td>10</td>\n",
       "      <td>1-Apr-09</td>\n",
       "      <td>1247</td>\n",
       "    </tr>\n",
       "    <tr>\n",
       "      <th>6716</th>\n",
       "      <td>96616</td>\n",
       "      <td>Sertraline</td>\n",
       "      <td>Depression</td>\n",
       "      <td>\"I remember reading people&amp;#039;s opinions, on...</td>\n",
       "      <td>10</td>\n",
       "      <td>31-Jul-08</td>\n",
       "      <td>1291</td>\n",
       "    </tr>\n",
       "    <tr>\n",
       "      <th>21708</th>\n",
       "      <td>131116</td>\n",
       "      <td>Levonorgestrel</td>\n",
       "      <td>Birth Control</td>\n",
       "      <td>\"I have had my IUD for over a year now and I t...</td>\n",
       "      <td>10</td>\n",
       "      <td>1-Apr-09</td>\n",
       "      <td>1247</td>\n",
       "    </tr>\n",
       "    <tr>\n",
       "      <th>33552</th>\n",
       "      <td>119152</td>\n",
       "      <td>Zoloft</td>\n",
       "      <td>Depression</td>\n",
       "      <td>\"I remember reading people&amp;#039;s opinions, on...</td>\n",
       "      <td>10</td>\n",
       "      <td>31-Jul-08</td>\n",
       "      <td>1291</td>\n",
       "    </tr>\n",
       "  </tbody>\n",
       "</table>\n",
       "</div>"
      ],
      "text/plain": [
       "       uniqueID        drugName      condition  \\\n",
       "4249     182560          Mirena  Birth Control   \n",
       "6716      96616      Sertraline     Depression   \n",
       "21708    131116  Levonorgestrel  Birth Control   \n",
       "33552    119152          Zoloft     Depression   \n",
       "\n",
       "                                                  review  rating       date  \\\n",
       "4249   \"I have had my IUD for over a year now and I t...      10   1-Apr-09   \n",
       "6716   \"I remember reading people&#039;s opinions, on...      10  31-Jul-08   \n",
       "21708  \"I have had my IUD for over a year now and I t...      10   1-Apr-09   \n",
       "33552  \"I remember reading people&#039;s opinions, on...      10  31-Jul-08   \n",
       "\n",
       "       usefulCount  \n",
       "4249          1247  \n",
       "6716          1291  \n",
       "21708         1247  \n",
       "33552         1291  "
      ]
     },
     "execution_count": 19,
     "metadata": {},
     "output_type": "execute_result"
    }
   ],
   "source": [
    "train[train['usefulCount'] > 1000]"
   ]
  },
  {
   "cell_type": "code",
   "execution_count": 20,
   "id": "9f804b6c",
   "metadata": {},
   "outputs": [
    {
     "data": {
      "text/plain": [
       "4"
      ]
     },
     "execution_count": 20,
     "metadata": {},
     "output_type": "execute_result"
    }
   ],
   "source": [
    "train[train['usefulCount'] > 1000].count()[0]"
   ]
  },
  {
   "cell_type": "code",
   "execution_count": 21,
   "id": "87462ba3",
   "metadata": {},
   "outputs": [
    {
     "data": {
      "text/plain": [
       "10.0"
      ]
     },
     "execution_count": 21,
     "metadata": {},
     "output_type": "execute_result"
    }
   ],
   "source": [
    "train[train['usefulCount'] > 1000]['rating'].mean()"
   ]
  },
  {
   "cell_type": "code",
   "execution_count": 22,
   "id": "8023c16a",
   "metadata": {},
   "outputs": [
    {
     "data": {
      "text/html": [
       "<div>\n",
       "<style scoped>\n",
       "    .dataframe tbody tr th:only-of-type {\n",
       "        vertical-align: middle;\n",
       "    }\n",
       "\n",
       "    .dataframe tbody tr th {\n",
       "        vertical-align: top;\n",
       "    }\n",
       "\n",
       "    .dataframe thead th {\n",
       "        text-align: right;\n",
       "    }\n",
       "</style>\n",
       "<table border=\"1\" class=\"dataframe\">\n",
       "  <thead>\n",
       "    <tr style=\"text-align: right;\">\n",
       "      <th></th>\n",
       "      <th>drugName</th>\n",
       "      <th>condition</th>\n",
       "    </tr>\n",
       "  </thead>\n",
       "  <tbody>\n",
       "    <tr>\n",
       "      <th>0</th>\n",
       "      <td>Mirena</td>\n",
       "      <td>Birth Control</td>\n",
       "    </tr>\n",
       "    <tr>\n",
       "      <th>1</th>\n",
       "      <td>Sertraline</td>\n",
       "      <td>Depression</td>\n",
       "    </tr>\n",
       "    <tr>\n",
       "      <th>2</th>\n",
       "      <td>Levonorgestrel</td>\n",
       "      <td>Birth Control</td>\n",
       "    </tr>\n",
       "    <tr>\n",
       "      <th>3</th>\n",
       "      <td>Zoloft</td>\n",
       "      <td>Depression</td>\n",
       "    </tr>\n",
       "  </tbody>\n",
       "</table>\n",
       "</div>"
      ],
      "text/plain": [
       "         drugName      condition\n",
       "0          Mirena  Birth Control\n",
       "1      Sertraline     Depression\n",
       "2  Levonorgestrel  Birth Control\n",
       "3          Zoloft     Depression"
      ]
     },
     "execution_count": 22,
     "metadata": {},
     "output_type": "execute_result"
    }
   ],
   "source": [
    "train[train['usefulCount'] > 1000][['drugName','condition']].reset_index(drop = True)"
   ]
  },
  {
   "cell_type": "code",
   "execution_count": 23,
   "id": "d569a127",
   "metadata": {},
   "outputs": [
    {
     "data": {
      "text/html": [
       "<div>\n",
       "<style scoped>\n",
       "    .dataframe tbody tr th:only-of-type {\n",
       "        vertical-align: middle;\n",
       "    }\n",
       "\n",
       "    .dataframe tbody tr th {\n",
       "        vertical-align: top;\n",
       "    }\n",
       "\n",
       "    .dataframe thead th {\n",
       "        text-align: right;\n",
       "    }\n",
       "</style>\n",
       "<table border=\"1\" class=\"dataframe\">\n",
       "  <thead>\n",
       "    <tr style=\"text-align: right;\">\n",
       "      <th></th>\n",
       "      <th>drugName</th>\n",
       "      <th>condition</th>\n",
       "      <th>review</th>\n",
       "    </tr>\n",
       "  </thead>\n",
       "  <tbody>\n",
       "    <tr>\n",
       "      <th>count</th>\n",
       "      <td>159498</td>\n",
       "      <td>159498</td>\n",
       "      <td>159498</td>\n",
       "    </tr>\n",
       "    <tr>\n",
       "      <th>unique</th>\n",
       "      <td>3412</td>\n",
       "      <td>811</td>\n",
       "      <td>111210</td>\n",
       "    </tr>\n",
       "    <tr>\n",
       "      <th>top</th>\n",
       "      <td>Levonorgestrel</td>\n",
       "      <td>Birth Control</td>\n",
       "      <td>\"Good\"</td>\n",
       "    </tr>\n",
       "    <tr>\n",
       "      <th>freq</th>\n",
       "      <td>3631</td>\n",
       "      <td>28788</td>\n",
       "      <td>33</td>\n",
       "    </tr>\n",
       "  </tbody>\n",
       "</table>\n",
       "</div>"
      ],
      "text/plain": [
       "              drugName      condition  review\n",
       "count           159498         159498  159498\n",
       "unique            3412            811  111210\n",
       "top     Levonorgestrel  Birth Control  \"Good\"\n",
       "freq              3631          28788      33"
      ]
     },
     "execution_count": 23,
     "metadata": {},
     "output_type": "execute_result"
    }
   ],
   "source": [
    "train[['drugName','condition','review']].describe(include = 'object')"
   ]
  },
  {
   "cell_type": "code",
   "execution_count": 24,
   "id": "f327686d",
   "metadata": {},
   "outputs": [
    {
     "data": {
      "text/plain": [
       "0"
      ]
     },
     "execution_count": 24,
     "metadata": {},
     "output_type": "execute_result"
    }
   ],
   "source": [
    "train.condition.isnull().sum()"
   ]
  },
  {
   "cell_type": "code",
   "execution_count": 25,
   "id": "3f0481d6",
   "metadata": {},
   "outputs": [],
   "source": [
    "train = train.dropna()"
   ]
  },
  {
   "cell_type": "code",
   "execution_count": 27,
   "id": "76387d35",
   "metadata": {},
   "outputs": [],
   "source": [
    "final=final.dropna()"
   ]
  },
  {
   "cell_type": "code",
   "execution_count": 29,
   "id": "87db1b52",
   "metadata": {},
   "outputs": [
    {
     "data": {
      "text/plain": [
       "0"
      ]
     },
     "execution_count": 29,
     "metadata": {},
     "output_type": "execute_result"
    }
   ],
   "source": [
    "final.isnull().sum().sum()"
   ]
  },
  {
   "cell_type": "code",
   "execution_count": 30,
   "id": "5ff5650b",
   "metadata": {},
   "outputs": [
    {
     "data": {
      "image/png": "[encoded data removed]",
      "text/plain": [
       "<Figure size 1080x288 with 1 Axes>"
      ]
     },
     "metadata": {},
     "output_type": "display_data"
    }
   ],
   "source": [
    "plt.rcParams['figure.figsize'] = (15, 4)\n",
    "sns.barplot(train['rating'], train['usefulCount'], palette = 'hot')\n",
    "plt.grid()\n",
    "plt.xlabel('\\n Ratings')\n",
    "plt.ylabel('Count\\n', fontsize = 20)\n",
    "plt.title('\\n Rating vs Usefulness \\n', fontsize = 20)\n",
    "plt.show()"
   ]
  },
  {
   "cell_type": "code",
   "execution_count": 31,
   "id": "180c045d",
   "metadata": {},
   "outputs": [],
   "source": [
    "train['len']  = train['review'].apply(len)"
   ]
  },
  {
   "cell_type": "code",
   "execution_count": 32,
   "id": "78c381e4",
   "metadata": {},
   "outputs": [
    {
     "data": {
      "text/html": [
       "<div>\n",
       "<style scoped>\n",
       "    .dataframe tbody tr th:only-of-type {\n",
       "        vertical-align: middle;\n",
       "    }\n",
       "\n",
       "    .dataframe tbody tr th {\n",
       "        vertical-align: top;\n",
       "    }\n",
       "\n",
       "    .dataframe thead tr th {\n",
       "        text-align: left;\n",
       "    }\n",
       "\n",
       "    .dataframe thead tr:last-of-type th {\n",
       "        text-align: right;\n",
       "    }\n",
       "</style>\n",
       "<table border=\"1\" class=\"dataframe\">\n",
       "  <thead>\n",
       "    <tr>\n",
       "      <th></th>\n",
       "      <th colspan=\"3\" halign=\"left\">len</th>\n",
       "    </tr>\n",
       "    <tr>\n",
       "      <th></th>\n",
       "      <th>min</th>\n",
       "      <th>mean</th>\n",
       "      <th>max</th>\n",
       "    </tr>\n",
       "    <tr>\n",
       "      <th>rating</th>\n",
       "      <th></th>\n",
       "      <th></th>\n",
       "      <th></th>\n",
       "    </tr>\n",
       "  </thead>\n",
       "  <tbody>\n",
       "    <tr>\n",
       "      <th>1</th>\n",
       "      <td>5</td>\n",
       "      <td>428.759619</td>\n",
       "      <td>3692</td>\n",
       "    </tr>\n",
       "    <tr>\n",
       "      <th>2</th>\n",
       "      <td>9</td>\n",
       "      <td>452.674960</td>\n",
       "      <td>10787</td>\n",
       "    </tr>\n",
       "    <tr>\n",
       "      <th>3</th>\n",
       "      <td>8</td>\n",
       "      <td>461.360012</td>\n",
       "      <td>5112</td>\n",
       "    </tr>\n",
       "    <tr>\n",
       "      <th>4</th>\n",
       "      <td>7</td>\n",
       "      <td>464.276811</td>\n",
       "      <td>3030</td>\n",
       "    </tr>\n",
       "    <tr>\n",
       "      <th>5</th>\n",
       "      <td>6</td>\n",
       "      <td>478.006071</td>\n",
       "      <td>2048</td>\n",
       "    </tr>\n",
       "    <tr>\n",
       "      <th>6</th>\n",
       "      <td>4</td>\n",
       "      <td>467.732811</td>\n",
       "      <td>2202</td>\n",
       "    </tr>\n",
       "    <tr>\n",
       "      <th>7</th>\n",
       "      <td>6</td>\n",
       "      <td>485.678946</td>\n",
       "      <td>3063</td>\n",
       "    </tr>\n",
       "    <tr>\n",
       "      <th>8</th>\n",
       "      <td>3</td>\n",
       "      <td>483.919467</td>\n",
       "      <td>4087</td>\n",
       "    </tr>\n",
       "    <tr>\n",
       "      <th>9</th>\n",
       "      <td>3</td>\n",
       "      <td>477.910577</td>\n",
       "      <td>6182</td>\n",
       "    </tr>\n",
       "    <tr>\n",
       "      <th>10</th>\n",
       "      <td>3</td>\n",
       "      <td>443.477863</td>\n",
       "      <td>6192</td>\n",
       "    </tr>\n",
       "  </tbody>\n",
       "</table>\n",
       "</div>"
      ],
      "text/plain": [
       "       len                   \n",
       "       min        mean    max\n",
       "rating                       \n",
       "1        5  428.759619   3692\n",
       "2        9  452.674960  10787\n",
       "3        8  461.360012   5112\n",
       "4        7  464.276811   3030\n",
       "5        6  478.006071   2048\n",
       "6        4  467.732811   2202\n",
       "7        6  485.678946   3063\n",
       "8        3  483.919467   4087\n",
       "9        3  477.910577   6182\n",
       "10       3  443.477863   6192"
      ]
     },
     "execution_count": 32,
     "metadata": {},
     "output_type": "execute_result"
    }
   ],
   "source": [
    "train[['rating','len']].groupby(['rating']).agg(['min','mean','max'])"
   ]
  },
  {
   "cell_type": "code",
   "execution_count": 33,
   "id": "7eb8be3e",
   "metadata": {},
   "outputs": [
    {
     "data": {
      "text/plain": [
       "'\"Two and a half months ago I was prescribed Venlafaxine to help prevent chronic migraines.\\r\\nIt did help the migraines (reduced them by almost half), but with it came a host of side effects that were far worse than the problem I was trying to get rid of.\\r\\nHaving now come off of the stuff, I would not recommend anyone ever use Venlafaxine unless they suffer from extreme / suicidal depression. I mean extreme in the most emphatic sense of the word. \\r\\nBefore trying Venlafaxine, I was a writer. While on Venlafaxine, I could barely write or speak or communicate at all. More than that, I just didn&#039;t want to. Not normal for a usually outgoing extrovert.\\r\\nNow, I&#039;m beginning to write again - but my ability to speak and converse with others has deteriorated by about 95%. Writing these words is taking forever; keeping up in conversation with even one person is impossible, and I barely see the point of trying either. On Venlafaxine, words pretty much left me - my conversational vocabulary  was whittled down to the following:\\r\\n&quot;Mmm&quot; for yes; a sharp and clipped &quot;Mm&quot; for &quot;No&quot;\\r\\n&quot;Okay.&quot;\\r\\n&quot;Really?&quot;\\r\\n&quot;Oh right.&quot;\\r\\n&quot;Cool.&quot;\\r\\n&quot;That sucks&quot;\\r\\nAt the moment, I&#039;m a week into withdrawal, and I have to try extremely hard just to make the most mundane small talk. Last night I went to a party with some close friends, cheesy &#039;90s music, and a barbecue. About half of them are academics, and I couldn&#039;t keep up with conversations I normally would be able to; the other half like to dance and party, but I felt glued to my seat (as well as practically mute) and eventually walked off and found a quiet sofa to lie down on.\\r\\nI have never felt so isolated and lonely in my life. Thanks Venlafaxine.\\r\\nIf you consider yourself a social, creative, and curious person, DO NOT TAKE EVEN ONE DOSE OF VENLAFAXINE. Unless of course you are extremely extremely depressed. I&#039;ve suffered from depression in the past, but only mildly. Venlafaxine has shown me what true depression feels like.\\r\\nAs for the other side effects:\\r\\n- About two days&#039; worth of total joyful euphoria during the first 48 hours of taking Venlafaxine. Anxiety of all kinds evaporated. This felt amazing - although I can&#039;t remember what it felt like now. At the time, this extremely brief effect was powerful enough to make me feel that pushing on with Venlafaxine would be a Good Idea.\\r\\n- After that, I started feeling very sleepy. All the time. I slept more. No euphoria; more anxiety.\\r\\n- A week later, the night sweats started. My room was pretty cold (it was only spring in the UK), but I sweated more than I ever have on any tropical holiday. This meant that despite being extremely sleepy, I couldn&#039;t sleep.\\r\\nSince the side effects were supposed to wear off after six weeks or so, I stuck with Venlafaxine for six weeks. Over that time I became so sleep deprived that I lived in a state of permanent exhaustion.\\r\\nEnter the writer&#039;s worst enemy: Brain fog. I spent entire days so braindead that the most challenging thing I could manage was staring blankly at a wall - or lifting my phone to read text messages and attempt to learn something from articles about Venlafaxine. I&#039;ve read the same articles countless times, but nothing sank in; every time I read the same article it felt like I was reading it for the first time. I recognised the layout and design of each webpage, and that way I was able to realise I&#039;d read it before, but the actual text went in one eye and out the other.\\r\\nIn conversation, I had a brain like a sieve. Words went in one ear and out the other. Normally, I could pump out a lot of writing on a regular basis; on Venlafaxine, I wrote a small and frankly pitiful handful of short and uninspired pieces, and that was it. If you love being productive and creative, do not go near Venlafaxine.\\r\\nThe above was my life for six weeks - and that was enough. I did see family and friends while on Venlafaxine, but I constantly forgot what was going on and must have seemed scatterbrained or borderline retarded at times. Although I did explain to people what was going on with my medication, it just seemed to make people uncomfortable - and I&#039;ve now become the butt of a lot of jokes relating to my consistent uselessness at everything from chatting to party games and my inability to work or do anything productive. Someone even compared me to Lenny from Of Mice And Men and asked when my family were going to take me into the back garden and shoot me in the head rather than continue to care for me. All of this contributed to the worst feeling of loneliness and isolation I have ever experienced in my life.\\r\\nVenlafaxine not only trapped me inside my head - it also emptied my head of anything worth remembering, and left me barely able to learn new things. \\r\\nI&#039;d sit around tables with people and realise I couldn&#039;t remember the names of people I&#039;d know for years - or even family members. \\r\\nI&#039;d hear a song playing and say &quot;Hey - what&#039;s the name of this dance?&quot;\\r\\nAny sentence longer than a few words requires a minute or so to compose when written. Spoken out loud? Forget about it. When I try to speak, I sound like the Goon from Popeye.\\r\\nAfter six weeks of hell, my doctor and I agreed to taper off my 75mg daily dose. This process lasted a month, not following a particular schedule (which might have been a better idea), and was mostly side effect free until I came down to 18.25mg a day - one half of one 37.5mg tablet.\\r\\nAfter three days of that, it really hit the fan. I got up one day, pottered around a bit, and suddenly decided that I wanted to kill myself. Literally out of nowhere.\\r\\nFortunately I was of sound enough mind to call the Samaritans, who recommended I call the emergency services, who sent an ambulance to take me to hospital. For suicidal thoughts. \\r\\nTo be honest, I&#039;d rather have gone to Disneyland.\\r\\nOnce I was in A&amp;E, I got to wait for several hours, just stewing in a room with a sofa and not much else. Then I met the most useless doctor of all time. After I refused his suggestion that I not only go back on Venlafaxine, but *try a higher dose* than the one that got me into this mess in the first place, he said there wasn&#039;t anything else they could do - and handed me a little leaflet for a local mental health charity meetup that happens every so often.\\r\\nBy this point I&#039;d decided that suicide would not be the best option - and nor would going on even more Venlafaxine than before. I also binned the leaflet on my way out, determined to keep going and just deal with the withdrawal.\\r\\nSince that time, my intelligence level has plummeted to the point of being humiliating. But that&#039;s not even the worst of it.\\r\\nAs I mentioned before, I started taking Venlafaxine for migraines. Now that I&#039;m not taking it, they&#039;re coming back again - but they&#039;ve also changed.\\r\\nA few days ago, days before the party I should probably have stayed home for only I couldn&#039;t stand sitting at home any longer so I went and ended up alone in a darkened room and felt more depressed than I have in my entire life, I was at home when I collapsed. The right side of my body gave way, I hit the wall, and fell on the floor where I lay frozen for God knows how long. Then when I did get up, I realised I couldn&#039;t speak at all, the right side of my body was almost paralysed, and the right side of my head was numb on the outside, and in agony on the inside.\\r\\nAfter calling the emergency services again, I was taken through the standard questions I guess they ask everyone when they think the person in question is having a stroke. Like the suicidal thoughts, stroke symptoms were a new experience for me. Thanks, Venlafaxine.\\r\\nWhen the ambulance arrived, they were able to reassure me that I wasn&#039;t having a stroke, as one side of my face wasn&#039;t drooping. This was good news - but since they couldn&#039;t explain what was actually going on, I was taking to hospital for a brain scan and blood tests and a meeting with a doctor who told me I&#039;d had a right-sided hemiplegic migraine. I&#039;d never had one before, and didn&#039;t know they existed until then; my migraines have always felt like my head is both in a vice and exploding at the same time, and I get them across my whole head, not just one side.\\r\\nAt this point, I&#039;m determined to continue fighting the withdrawal symptoms. The only thing that&#039;s really helped me in doing this was the discovery of a cognitive distortion called &quot;emotional reasoning&quot;. This involves assuming that because you feel bad, things must actually be bad.\\r\\nObviously emotional reasoning (which is worth Googling as it&#039;s quite an in depth subject, or at least feels like it given that my brain&#039;s been hopefully temporarily damaged by Venlafaxine) is pretty common in depression. It&#039;s also been my brain&#039;s default way of operating possibly for as long as I can remember, but definitely since I started taking Venlafaxine. The emotional and physical and psychological rollercoaster Venlafaxine puts you through is utterly exhausting - and while it&#039;s throwing you all over the place and especially during withdrawal it&#039;s tough to keep in mind that a lot of the negative thoughts your mind throws up are going to be based on how you feel (i.e. the levels and mix of different chemicals in your brain), NOT on any Real Life Stuff. You&#039;ll most likely unintentionally filter out all the good stuff in your brain and only remember the darkest and worst things you possibly can, and attach all kinds of apparently logical arguments to make a case against yourself / a case that argues that you and your life are awful.\\r\\nLooking back on this experience, my thoughts were similar to one of those films you see advertised as &quot;...based on a true story&quot;. Works of fiction based very loosely on facts.\\r\\nRather than a film you&#039;d give two stars and never watch again, emotional reasoning&#039;s end product is a lie - not to mention the most toxic thoughts a human being can think. Depression can definitely make people tell these lies to themselves - but Venlafaxine made my brain malfunction so badly that putting together an apparently sensible argument for any depressive thoughts suddenly seemed like the most obvious thing in the world one day.\\r\\nIf I hadn&#039;t had those thoughts, I would&#039;ve just made lunch.\\r\\nSo that&#039;s about it for now - if I don&#039;t update this story in the future, assume I got better and decided to never revisit this page again, preferring to leave Venlafaxine and its horrific toxicity behind me. Good luck with your own journey :)\"'"
      ]
     },
     "execution_count": 33,
     "metadata": {},
     "output_type": "execute_result"
    }
   ],
   "source": [
    "train['review'][train['len'] == train['len'].max()].iloc[0]\n"
   ]
  },
  {
   "cell_type": "code",
   "execution_count": 34,
   "id": "94921661",
   "metadata": {},
   "outputs": [
    {
     "data": {
      "text/plain": [
       "10787"
      ]
     },
     "execution_count": 34,
     "metadata": {},
     "output_type": "execute_result"
    }
   ],
   "source": [
    "train['len'].max()"
   ]
  },
  {
   "cell_type": "code",
   "execution_count": null,
   "id": "3fea0d5a",
   "metadata": {},
   "outputs": [],
   "source": []
  },
  {
   "cell_type": "code",
   "execution_count": 35,
   "id": "84c7e57b",
   "metadata": {},
   "outputs": [],
   "source": [
    "import string"
   ]
  },
  {
   "cell_type": "code",
   "execution_count": 36,
   "id": "d420c158",
   "metadata": {},
   "outputs": [],
   "source": [
    "# First lets remove Punctuations from the Reviews\n",
    "\n",
    "def punctuation_removal(messy_str):\n",
    "    clean_list = [char for char in messy_str if char not in string.punctuation]\n",
    "    clean_str = ''.join(clean_list)\n",
    "    return clean_str"
   ]
  },
  {
   "cell_type": "code",
   "execution_count": 37,
   "id": "d02d0832",
   "metadata": {},
   "outputs": [],
   "source": [
    "train['review'] = train['review'].apply(punctuation_removal)"
   ]
  },
  {
   "cell_type": "code",
   "execution_count": 38,
   "id": "98961d11",
   "metadata": {},
   "outputs": [],
   "source": [
    "from nltk.corpus import stopwords\n",
    "from nltk.tokenize import word_tokenize"
   ]
  },
  {
   "cell_type": "code",
   "execution_count": 39,
   "id": "d2172f58",
   "metadata": {},
   "outputs": [],
   "source": [
    "# Now lets Remove the Stopwords also\n",
    "\n",
    "\n",
    "stop = stopwords.words('english')\n",
    "stop.append(\"i'm\")\n",
    "\n",
    "stop_words = []\n",
    "\n",
    "for item in stop: \n",
    "    new_item = punctuation_removal(item)\n",
    "    stop_words.append(new_item) \n",
    "\n",
    "def stopwords_removal(messy_str):\n",
    "    messy_str = word_tokenize(messy_str)\n",
    "    return [word.lower() for word in messy_str \n",
    "            if word.lower() not in stop_words ]"
   ]
  },
  {
   "cell_type": "code",
   "execution_count": 40,
   "id": "07871eef",
   "metadata": {},
   "outputs": [],
   "source": [
    "train['review'] = train['review'].apply(stopwords_removal)"
   ]
  },
  {
   "cell_type": "code",
   "execution_count": 41,
   "id": "e5249bf6",
   "metadata": {},
   "outputs": [],
   "source": [
    "# lets remove the Numbers also\n",
    "\n",
    "import re\n",
    "def drop_numbers(list_text):\n",
    "    list_text_new = []\n",
    "    for i in list_text:\n",
    "        if not re.search('\\d', i):\n",
    "            list_text_new.append(i)\n",
    "    return ' '.join(list_text_new)"
   ]
  },
  {
   "cell_type": "code",
   "execution_count": 42,
   "id": "a238c6e7",
   "metadata": {},
   "outputs": [],
   "source": [
    "train['review'] = train['review'].apply(drop_numbers)"
   ]
  },
  {
   "cell_type": "code",
   "execution_count": 43,
   "id": "4f3d0b55",
   "metadata": {},
   "outputs": [
    {
     "name": "stderr",
     "output_type": "stream",
     "text": [
      "[nltk_data] Downloading package vader_lexicon to\n",
      "[nltk_data]     C:\\Users\\kirti\\AppData\\Roaming\\nltk_data...\n",
      "[nltk_data]   Package vader_lexicon is already up-to-date!\n"
     ]
    },
    {
     "data": {
      "text/plain": [
       "True"
      ]
     },
     "execution_count": 43,
     "metadata": {},
     "output_type": "execute_result"
    }
   ],
   "source": [
    "# for using Sentiment Analyzer we will have to dowload the Vader Lexicon from NLTK\n",
    "#(Valence Aware Dictionary and sEntiment Reasoner)\n",
    "\n",
    "import nltk\n",
    "nltk.download('vader_lexicon')"
   ]
  },
  {
   "cell_type": "code",
   "execution_count": 44,
   "id": "b8b27d2e",
   "metadata": {},
   "outputs": [],
   "source": [
    "# lets calculate the Sentiment from Reviews\n",
    "\n",
    "from nltk.sentiment.vader import SentimentIntensityAnalyzer\n",
    "sid = SentimentIntensityAnalyzer()\n",
    "\n",
    "train_sentiments = []\n",
    "\n",
    "for i in train['review']:\n",
    "    train_sentiments.append(sid.polarity_scores(i).get('compound'))\n",
    "    \n",
    "train_sentiments = np.asarray(train_sentiments)\n",
    "train['sentiment'] = pd.Series(data=train_sentiments)"
   ]
  },
  {
   "cell_type": "code",
   "execution_count": 45,
   "id": "f1be3faa",
   "metadata": {},
   "outputs": [
    {
     "data": {
      "text/html": [
       "<div>\n",
       "<style scoped>\n",
       "    .dataframe tbody tr th:only-of-type {\n",
       "        vertical-align: middle;\n",
       "    }\n",
       "\n",
       "    .dataframe tbody tr th {\n",
       "        vertical-align: top;\n",
       "    }\n",
       "\n",
       "    .dataframe thead tr th {\n",
       "        text-align: left;\n",
       "    }\n",
       "\n",
       "    .dataframe thead tr:last-of-type th {\n",
       "        text-align: right;\n",
       "    }\n",
       "</style>\n",
       "<table border=\"1\" class=\"dataframe\">\n",
       "  <thead>\n",
       "    <tr>\n",
       "      <th></th>\n",
       "      <th colspan=\"3\" halign=\"left\">sentiment</th>\n",
       "    </tr>\n",
       "    <tr>\n",
       "      <th></th>\n",
       "      <th>min</th>\n",
       "      <th>mean</th>\n",
       "      <th>max</th>\n",
       "    </tr>\n",
       "    <tr>\n",
       "      <th>rating</th>\n",
       "      <th></th>\n",
       "      <th></th>\n",
       "      <th></th>\n",
       "    </tr>\n",
       "  </thead>\n",
       "  <tbody>\n",
       "    <tr>\n",
       "      <th>1</th>\n",
       "      <td>-0.9982</td>\n",
       "      <td>0.006169</td>\n",
       "      <td>0.9911</td>\n",
       "    </tr>\n",
       "    <tr>\n",
       "      <th>2</th>\n",
       "      <td>-0.9894</td>\n",
       "      <td>-0.003758</td>\n",
       "      <td>0.9923</td>\n",
       "    </tr>\n",
       "    <tr>\n",
       "      <th>3</th>\n",
       "      <td>-0.9920</td>\n",
       "      <td>0.007096</td>\n",
       "      <td>0.9901</td>\n",
       "    </tr>\n",
       "    <tr>\n",
       "      <th>4</th>\n",
       "      <td>-0.9912</td>\n",
       "      <td>0.010278</td>\n",
       "      <td>0.9909</td>\n",
       "    </tr>\n",
       "    <tr>\n",
       "      <th>5</th>\n",
       "      <td>-0.9931</td>\n",
       "      <td>-0.000815</td>\n",
       "      <td>0.9924</td>\n",
       "    </tr>\n",
       "    <tr>\n",
       "      <th>6</th>\n",
       "      <td>-0.9925</td>\n",
       "      <td>0.007830</td>\n",
       "      <td>0.9868</td>\n",
       "    </tr>\n",
       "    <tr>\n",
       "      <th>7</th>\n",
       "      <td>-0.9914</td>\n",
       "      <td>0.001193</td>\n",
       "      <td>0.9923</td>\n",
       "    </tr>\n",
       "    <tr>\n",
       "      <th>8</th>\n",
       "      <td>-0.9936</td>\n",
       "      <td>0.003657</td>\n",
       "      <td>0.9893</td>\n",
       "    </tr>\n",
       "    <tr>\n",
       "      <th>9</th>\n",
       "      <td>-0.9944</td>\n",
       "      <td>0.008380</td>\n",
       "      <td>0.9936</td>\n",
       "    </tr>\n",
       "    <tr>\n",
       "      <th>10</th>\n",
       "      <td>-0.9947</td>\n",
       "      <td>0.008548</td>\n",
       "      <td>0.9911</td>\n",
       "    </tr>\n",
       "  </tbody>\n",
       "</table>\n",
       "</div>"
      ],
      "text/plain": [
       "       sentiment                  \n",
       "             min      mean     max\n",
       "rating                            \n",
       "1        -0.9982  0.006169  0.9911\n",
       "2        -0.9894 -0.003758  0.9923\n",
       "3        -0.9920  0.007096  0.9901\n",
       "4        -0.9912  0.010278  0.9909\n",
       "5        -0.9931 -0.000815  0.9924\n",
       "6        -0.9925  0.007830  0.9868\n",
       "7        -0.9914  0.001193  0.9923\n",
       "8        -0.9936  0.003657  0.9893\n",
       "9        -0.9944  0.008380  0.9936\n",
       "10       -0.9947  0.008548  0.9911"
      ]
     },
     "execution_count": 45,
     "metadata": {},
     "output_type": "execute_result"
    }
   ],
   "source": [
    "train[['rating','sentiment']].groupby(['rating']).agg(['min','mean','max'])"
   ]
  },
  {
   "cell_type": "code",
   "execution_count": 46,
   "id": "1b9a6db8",
   "metadata": {},
   "outputs": [
    {
     "data": {
      "text/plain": [
       "Index(['drugName', 'condition', 'rating', 'usefulCount'], dtype='object')"
      ]
     },
     "execution_count": 46,
     "metadata": {},
     "output_type": "execute_result"
    }
   ],
   "source": [
    "#drop the sentiment column and remove the unique Id, date, review, len, and sentiment column also\n",
    "train = train.drop(['date','uniqueID','sentiment','review','len'], axis = 1)\n",
    "\n",
    "# lets check the name of columns now\n",
    "train.columns"
   ]
  },
  {
   "cell_type": "code",
   "execution_count": 47,
   "id": "ebbcee67",
   "metadata": {},
   "outputs": [],
   "source": [
    "min_rating = train['rating'].min()\n",
    "max_rating = train['rating'].max()\n",
    "\n",
    "def scale_rating(rating):\n",
    "    rating -= min_rating\n",
    "    rating = rating/(max_rating -1)\n",
    "    rating *= 5\n",
    "    rating = int(round(rating,0))\n",
    "    \n",
    "    if(int(rating) == 0 or int(rating)==1 or int(rating)==2):\n",
    "        return 0\n",
    "    else:\n",
    "        return 1"
   ]
  },
  {
   "cell_type": "code",
   "execution_count": 48,
   "id": "047deea6",
   "metadata": {},
   "outputs": [],
   "source": [
    "train['eff_score'] = train['rating'].apply(scale_rating)"
   ]
  },
  {
   "cell_type": "code",
   "execution_count": 49,
   "id": "eac4ed8a",
   "metadata": {},
   "outputs": [
    {
     "data": {
      "text/html": [
       "<div>\n",
       "<style scoped>\n",
       "    .dataframe tbody tr th:only-of-type {\n",
       "        vertical-align: middle;\n",
       "    }\n",
       "\n",
       "    .dataframe tbody tr th {\n",
       "        vertical-align: top;\n",
       "    }\n",
       "\n",
       "    .dataframe thead th {\n",
       "        text-align: right;\n",
       "    }\n",
       "</style>\n",
       "<table border=\"1\" class=\"dataframe\">\n",
       "  <thead>\n",
       "    <tr style=\"text-align: right;\">\n",
       "      <th></th>\n",
       "      <th>drugName</th>\n",
       "      <th>condition</th>\n",
       "      <th>rating</th>\n",
       "      <th>usefulCount</th>\n",
       "      <th>eff_score</th>\n",
       "    </tr>\n",
       "  </thead>\n",
       "  <tbody>\n",
       "    <tr>\n",
       "      <th>129017</th>\n",
       "      <td>Alli</td>\n",
       "      <td>Obesity</td>\n",
       "      <td>5</td>\n",
       "      <td>48</td>\n",
       "      <td>0</td>\n",
       "    </tr>\n",
       "    <tr>\n",
       "      <th>73628</th>\n",
       "      <td>Diovan</td>\n",
       "      <td>High Blood Pressure</td>\n",
       "      <td>1</td>\n",
       "      <td>91</td>\n",
       "      <td>0</td>\n",
       "    </tr>\n",
       "    <tr>\n",
       "      <th>98314</th>\n",
       "      <td>Medroxyprogesterone</td>\n",
       "      <td>Abnormal Uterine Bleeding</td>\n",
       "      <td>1</td>\n",
       "      <td>15</td>\n",
       "      <td>0</td>\n",
       "    </tr>\n",
       "  </tbody>\n",
       "</table>\n",
       "</div>"
      ],
      "text/plain": [
       "                   drugName                  condition  rating  usefulCount  \\\n",
       "129017                 Alli                    Obesity       5           48   \n",
       "73628                Diovan        High Blood Pressure       1           91   \n",
       "98314   Medroxyprogesterone  Abnormal Uterine Bleeding       1           15   \n",
       "\n",
       "        eff_score  \n",
       "129017          0  \n",
       "73628           0  \n",
       "98314           0  "
      ]
     },
     "execution_count": 49,
     "metadata": {},
     "output_type": "execute_result"
    }
   ],
   "source": [
    "train.sample(3)"
   ]
  },
  {
   "cell_type": "code",
   "execution_count": 50,
   "id": "3817b7bb",
   "metadata": {},
   "outputs": [
    {
     "data": {
      "text/html": [
       "<div>\n",
       "<style scoped>\n",
       "    .dataframe tbody tr th:only-of-type {\n",
       "        vertical-align: middle;\n",
       "    }\n",
       "\n",
       "    .dataframe tbody tr th {\n",
       "        vertical-align: top;\n",
       "    }\n",
       "\n",
       "    .dataframe thead th {\n",
       "        text-align: right;\n",
       "    }\n",
       "</style>\n",
       "<table border=\"1\" class=\"dataframe\">\n",
       "  <thead>\n",
       "    <tr style=\"text-align: right;\">\n",
       "      <th></th>\n",
       "      <th>drugName</th>\n",
       "      <th>condition</th>\n",
       "      <th>usefulness</th>\n",
       "    </tr>\n",
       "  </thead>\n",
       "  <tbody>\n",
       "    <tr>\n",
       "      <th>0</th>\n",
       "      <td>Zoloft</td>\n",
       "      <td>Depression</td>\n",
       "      <td>12910</td>\n",
       "    </tr>\n",
       "    <tr>\n",
       "      <th>1</th>\n",
       "      <td>Sertraline</td>\n",
       "      <td>Depression</td>\n",
       "      <td>12910</td>\n",
       "    </tr>\n",
       "    <tr>\n",
       "      <th>2</th>\n",
       "      <td>Levonorgestrel</td>\n",
       "      <td>Birth Control</td>\n",
       "      <td>12470</td>\n",
       "    </tr>\n",
       "    <tr>\n",
       "      <th>3</th>\n",
       "      <td>Mirena</td>\n",
       "      <td>Birth Control</td>\n",
       "      <td>12470</td>\n",
       "    </tr>\n",
       "    <tr>\n",
       "      <th>4</th>\n",
       "      <td>Zoloft</td>\n",
       "      <td>Depression</td>\n",
       "      <td>8541</td>\n",
       "    </tr>\n",
       "    <tr>\n",
       "      <th>5</th>\n",
       "      <td>Adipex-P</td>\n",
       "      <td>Weight Loss</td>\n",
       "      <td>7960</td>\n",
       "    </tr>\n",
       "    <tr>\n",
       "      <th>6</th>\n",
       "      <td>Phentermine</td>\n",
       "      <td>Weight Loss</td>\n",
       "      <td>7960</td>\n",
       "    </tr>\n",
       "    <tr>\n",
       "      <th>7</th>\n",
       "      <td>Implanon</td>\n",
       "      <td>Birth Control</td>\n",
       "      <td>7300</td>\n",
       "    </tr>\n",
       "    <tr>\n",
       "      <th>8</th>\n",
       "      <td>Viibryd</td>\n",
       "      <td>Depression</td>\n",
       "      <td>6930</td>\n",
       "    </tr>\n",
       "    <tr>\n",
       "      <th>9</th>\n",
       "      <td>Vilazodone</td>\n",
       "      <td>Depression</td>\n",
       "      <td>6930</td>\n",
       "    </tr>\n",
       "  </tbody>\n",
       "</table>\n",
       "</div>"
      ],
      "text/plain": [
       "         drugName      condition  usefulness\n",
       "0          Zoloft     Depression       12910\n",
       "1      Sertraline     Depression       12910\n",
       "2  Levonorgestrel  Birth Control       12470\n",
       "3          Mirena  Birth Control       12470\n",
       "4          Zoloft     Depression        8541\n",
       "5        Adipex-P    Weight Loss        7960\n",
       "6     Phentermine    Weight Loss        7960\n",
       "7        Implanon  Birth Control        7300\n",
       "8         Viibryd     Depression        6930\n",
       "9      Vilazodone     Depression        6930"
      ]
     },
     "execution_count": 50,
     "metadata": {},
     "output_type": "execute_result"
    }
   ],
   "source": [
    "# lets also calculate Usefulness Score\n",
    "\n",
    "train['usefulness'] = train['rating']*train['usefulCount']*train['eff_score']\n",
    "\n",
    "# lets check the Top 10 Most Useful Drugs with their Respective Conditions\n",
    "train[['drugName','condition','usefulness']][train['usefulness'] > train['usefulness'].mean()].sort_values(by = 'usefulness', ascending = False).head(10).reset_index(drop = True)"
   ]
  },
  {
   "cell_type": "code",
   "execution_count": 51,
   "id": "715b2778",
   "metadata": {},
   "outputs": [
    {
     "data": {
      "application/vnd.jupyter.widget-view+json": {
       "model_id": "44901bfc4cf1424f9820cc1d1de10aa5",
       "version_major": 2,
       "version_minor": 0
      },
      "text/plain": [
       "interactive(children=(Dropdown(description='condition', options=('Birth Control', 'Depression', 'Pain', 'Anxie…"
      ]
     },
     "metadata": {},
     "output_type": "display_data"
    }
   ],
   "source": [
    "# lets calculate the Number of Useless and Useful Drugs for Each Condition\n",
    "\n",
    "@interact\n",
    "def check(condition = list(train['condition'].value_counts().index)):\n",
    "    return train[train['condition'] == condition]['eff_score'].value_counts()"
   ]
  },
  {
   "cell_type": "code",
   "execution_count": 52,
   "id": "7bb6fb4a",
   "metadata": {},
   "outputs": [
    {
     "data": {
      "text/plain": [
       "811"
      ]
     },
     "execution_count": 52,
     "metadata": {},
     "output_type": "execute_result"
    }
   ],
   "source": [
    "# lets check the Most Common Conditions\n",
    "\n",
    "train['condition'].nunique()"
   ]
  },
  {
   "cell_type": "code",
   "execution_count": 72,
   "id": "21b9714e",
   "metadata": {},
   "outputs": [
    {
     "data": {
      "text/plain": [
       "Birth Control                8850\n",
       "Depression                   7367\n",
       "Pain                         5029\n",
       "Anxiety                      4553\n",
       "Acne                         3578\n",
       "Bipolar Disorde              3498\n",
       "Insomnia                     2905\n",
       "ADHD                         2611\n",
       "Obesity                      2364\n",
       "High Blood Pressure          2174\n",
       "Weight Loss                  2130\n",
       "Diabetes, Type 2             2100\n",
       "ibromyalgia                  1635\n",
       "Major Depressive Disorde     1456\n",
       "Anxiety and Stress           1433\n",
       "Abnormal Uterine Bleeding    1310\n",
       "Chronic Pain                 1291\n",
       "Panic Disorde                1222\n",
       "Migraine                     1166\n",
       "Migraine Prevention          1159\n",
       "Name: condition, dtype: int64"
      ]
     },
     "execution_count": 72,
     "metadata": {},
     "output_type": "execute_result"
    }
   ],
   "source": [
    "train['condition'].value_counts().head(20)"
   ]
  },
  {
   "cell_type": "code",
   "execution_count": 54,
   "id": "23d9a928",
   "metadata": {},
   "outputs": [
    {
     "data": {
      "text/html": [
       "<div>\n",
       "<style scoped>\n",
       "    .dataframe tbody tr th:only-of-type {\n",
       "        vertical-align: middle;\n",
       "    }\n",
       "\n",
       "    .dataframe tbody tr th {\n",
       "        vertical-align: top;\n",
       "    }\n",
       "\n",
       "    .dataframe thead th {\n",
       "        text-align: right;\n",
       "    }\n",
       "</style>\n",
       "<table border=\"1\" class=\"dataframe\">\n",
       "  <thead>\n",
       "    <tr style=\"text-align: right;\">\n",
       "      <th></th>\n",
       "      <th>condition</th>\n",
       "      <th>drugName</th>\n",
       "      <th>usefulCount</th>\n",
       "    </tr>\n",
       "  </thead>\n",
       "  <tbody>\n",
       "    <tr>\n",
       "      <th>0</th>\n",
       "      <td>Depression</td>\n",
       "      <td>Sertraline</td>\n",
       "      <td>1291</td>\n",
       "    </tr>\n",
       "    <tr>\n",
       "      <th>1</th>\n",
       "      <td>Depression</td>\n",
       "      <td>Zoloft</td>\n",
       "      <td>1291</td>\n",
       "    </tr>\n",
       "    <tr>\n",
       "      <th>2</th>\n",
       "      <td>Birth Control</td>\n",
       "      <td>Levonorgestrel</td>\n",
       "      <td>1247</td>\n",
       "    </tr>\n",
       "    <tr>\n",
       "      <th>3</th>\n",
       "      <td>Birth Control</td>\n",
       "      <td>Mirena</td>\n",
       "      <td>1247</td>\n",
       "    </tr>\n",
       "    <tr>\n",
       "      <th>4</th>\n",
       "      <td>Depression</td>\n",
       "      <td>Zoloft</td>\n",
       "      <td>949</td>\n",
       "    </tr>\n",
       "    <tr>\n",
       "      <th>5</th>\n",
       "      <td>Weight Loss</td>\n",
       "      <td>Phentermine</td>\n",
       "      <td>796</td>\n",
       "    </tr>\n",
       "    <tr>\n",
       "      <th>6</th>\n",
       "      <td>Weight Loss</td>\n",
       "      <td>Adipex-P</td>\n",
       "      <td>796</td>\n",
       "    </tr>\n",
       "    <tr>\n",
       "      <th>7</th>\n",
       "      <td>Depression</td>\n",
       "      <td>Citalopram</td>\n",
       "      <td>771</td>\n",
       "    </tr>\n",
       "    <tr>\n",
       "      <th>8</th>\n",
       "      <td>Depression</td>\n",
       "      <td>Celexa</td>\n",
       "      <td>771</td>\n",
       "    </tr>\n",
       "    <tr>\n",
       "      <th>9</th>\n",
       "      <td>Birth Control</td>\n",
       "      <td>Implanon</td>\n",
       "      <td>730</td>\n",
       "    </tr>\n",
       "  </tbody>\n",
       "</table>\n",
       "</div>"
      ],
      "text/plain": [
       "       condition        drugName  usefulCount\n",
       "0     Depression      Sertraline         1291\n",
       "1     Depression          Zoloft         1291\n",
       "2  Birth Control  Levonorgestrel         1247\n",
       "3  Birth Control          Mirena         1247\n",
       "4     Depression          Zoloft          949\n",
       "5    Weight Loss     Phentermine          796\n",
       "6    Weight Loss        Adipex-P          796\n",
       "7     Depression      Citalopram          771\n",
       "8     Depression          Celexa          771\n",
       "9  Birth Control        Implanon          730"
      ]
     },
     "execution_count": 54,
     "metadata": {},
     "output_type": "execute_result"
    }
   ],
   "source": [
    "# lets check Drugs, which were useful to Highest Number of Poeple\n",
    "train[['condition','drugName','usefulCount']][train['usefulCount'] > train['usefulCount'].mean()].sort_values(by = 'usefulCount', ascending = False).head(10).reset_index(drop = True)"
   ]
  },
  {
   "cell_type": "code",
   "execution_count": 55,
   "id": "3c62169d",
   "metadata": {},
   "outputs": [],
   "source": [
    "train = train.drop_duplicates()"
   ]
  },
  {
   "cell_type": "code",
   "execution_count": 182,
   "id": "2bf0277c",
   "metadata": {
    "scrolled": true
   },
   "outputs": [
    {
     "data": {
      "application/vnd.jupyter.widget-view+json": {
       "model_id": "78540cdf0b1c4c67baac639d3e6c27ec",
       "version_major": 2,
       "version_minor": 0
      },
      "text/plain": [
       "interactive(children=(Dropdown(description='condition', options=('ADHD', 'AIDS Related Wasting', 'AV Heart Blo…"
      ]
     },
     "metadata": {},
     "output_type": "display_data"
    }
   ],
   "source": [
    "@interact\n",
    "def high_low_rate(condition = sorted((list(train['condition'].value_counts().index)))):\n",
    "    print(\"\\n Top 5 Drugs\\n Consult Physician before taking any drugs\")\n",
    "    print(train[train['condition'] == condition][['drugName','usefulness','rating']].sort_values(by = 'usefulness',\n",
    "                        ascending = False).head().reset_index(drop = True))\n",
    "    "
   ]
  },
  {
   "cell_type": "code",
   "execution_count": null,
   "id": "fee5a87d",
   "metadata": {},
   "outputs": [],
   "source": []
  }
 ],
 "metadata": {
  "kernelspec": {
   "display_name": "Python 3 (ipykernel)",
   "language": "python",
   "name": "python3"
  },
  "language_info": {
   "codemirror_mode": {
    "name": "ipython",
    "version": 3
   },
   "file_extension": ".py",
   "mimetype": "text/x-python",
   "name": "python",
   "nbconvert_exporter": "python",
   "pygments_lexer": "ipython3",
   "version": "3.9.12"
  }
 },
 "nbformat": 4,
 "nbformat_minor": 5
}
